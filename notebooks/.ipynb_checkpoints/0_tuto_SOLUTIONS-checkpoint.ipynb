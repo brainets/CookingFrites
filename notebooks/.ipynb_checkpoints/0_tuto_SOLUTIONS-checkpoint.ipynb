{
 "cells": [
  {
   "cell_type": "code",
   "execution_count": null,
   "id": "e3db07d3-17c9-4bdc-8bd4-f77fbebd0103",
   "metadata": {},
   "outputs": [],
   "source": [
    "import os\n",
    "\n",
    "import numpy as np\n",
    "import xarray as xr\n",
    "import pandas as pd\n",
    "\n",
    "import matplotlib.pyplot as plt"
   ]
  },
  {
   "cell_type": "markdown",
   "id": "d795bc42-897e-403e-bc33-f330331d545b",
   "metadata": {},
   "source": [
    "---\n",
    "# **--- ROOT PATH ---**\n",
    "\n",
    "<div class=\"alert alert-info\"><p>\n",
    "\n",
    "Define the path to where the data are located !\n",
    "</p></div>"
   ]
  },
  {
   "cell_type": "code",
   "execution_count": null,
   "id": "bcc2decf-b82f-4813-8138-3045a23c1e72",
   "metadata": {},
   "outputs": [],
   "source": [
    "ROOT = '/run/media/etienne/DATA/Toolbox/BraiNets/CookingFrites/dataset/'"
   ]
  },
  {
   "cell_type": "markdown",
   "id": "b5573693-dee2-4250-a48b-4f7778426056",
   "metadata": {},
   "source": [
    "# **1. Load fresh data !**"
   ]
  },
  {
   "cell_type": "code",
   "execution_count": null,
   "id": "a16e2237-b0ac-4b0c-8031-a8274263a9d6",
   "metadata": {},
   "outputs": [],
   "source": [
    "###############################################################################\n",
    "subject_nb = 7\n",
    "###############################################################################\n",
    "\n",
    "# load the high-gamma activity\n",
    "file_hga = os.path.join(ROOT, 'hga', f'hga_s-{subject_nb}.nc')\n",
    "hga = xr.load_dataarray(file_hga)\n",
    "\n",
    "# load the name of the brain regions\n",
    "file_anat = os.path.join(ROOT, 'anat', f'anat_s-{subject_nb}.xlsx')\n",
    "anat = pd.read_excel(file_anat)\n",
    "\n",
    "# load the behavior\n",
    "file_beh = os.path.join(ROOT, 'beh', f'beh_s-{subject_nb}.xlsx')\n",
    "beh = pd.read_excel(file_beh)\n",
    "hga['trials'] = list(beh['valence'])"
   ]
  },
  {
   "cell_type": "markdown",
   "id": "840b6948-22c8-4466-8bed-44f8cb26fd95",
   "metadata": {},
   "source": [
    "# **2. Data selection**\n",
    "## 2.1 Multi-items selection"
   ]
  },
  {
   "cell_type": "code",
   "execution_count": null,
   "id": "a2a7751b-ad59-4e86-bb6b-67d93c30eeb8",
   "metadata": {},
   "outputs": [],
   "source": [
    "hga.sel(\n",
    "    trials='+0€', channels=\"Q'2-Q'1\", times=slice(0., 1.)\n",
    ")"
   ]
  },
  {
   "cell_type": "markdown",
   "id": "223453db-5f68-4350-a4f9-d762152b84c0",
   "metadata": {},
   "source": [
    "## 2.2 Mean over time"
   ]
  },
  {
   "cell_type": "code",
   "execution_count": null,
   "id": "d4db57c8-c74c-4d55-865b-75a8e69a2bb3",
   "metadata": {},
   "outputs": [],
   "source": [
    "hga.sel(\n",
    "    channels=\"Q'2-Q'1\", times=slice(0., 1.)\n",
    ").mean(['trials', 'times'])"
   ]
  },
  {
   "cell_type": "markdown",
   "id": "ca521fd0-bdf1-477e-b4e9-431407c98431",
   "metadata": {},
   "source": [
    "## 2.3 Group by outcome"
   ]
  },
  {
   "cell_type": "code",
   "execution_count": null,
   "id": "aa5782e7-db96-4d7d-b50a-0adca959539e",
   "metadata": {},
   "outputs": [],
   "source": [
    "hga.groupby('trials').mean('trials')"
   ]
  },
  {
   "cell_type": "markdown",
   "id": "27e92571-b1a1-415c-9762-53528f18d098",
   "metadata": {},
   "source": [
    "## 2.4 Set the name of the brain regions"
   ]
  },
  {
   "cell_type": "code",
   "execution_count": null,
   "id": "75248246-7833-41af-a92b-990195d24399",
   "metadata": {},
   "outputs": [],
   "source": [
    "# get the list of brain region names\n",
    "roi = list(anat['roi'])\n",
    "\n",
    "# change the name of the `channels` dimension\n",
    "hga_roi = hga.rename(channels='parcels')\n",
    "\n",
    "# set the name of the brain regions\n",
    "hga_roi['parcels'] = roi"
   ]
  },
  {
   "cell_type": "markdown",
   "id": "8c2dd71e-0d54-4750-9afc-d7ce24756d2c",
   "metadata": {},
   "source": [
    "## 2.5 Group by parcel name"
   ]
  },
  {
   "cell_type": "code",
   "execution_count": null,
   "id": "4a6aba63-e69c-4bfc-8e1b-00b8848d4626",
   "metadata": {},
   "outputs": [],
   "source": [
    "# hga_roi.groupby('parcels').mean('parcels')"
   ]
  },
  {
   "cell_type": "markdown",
   "id": "b9d5f7fb-cfb8-43a4-add8-13e9648cc0b4",
   "metadata": {},
   "source": [
    "## 2.6 Group by outcome and parcels"
   ]
  },
  {
   "cell_type": "code",
   "execution_count": null,
   "id": "c70f51f4-0333-43d7-a34b-1d5a891c1b0a",
   "metadata": {},
   "outputs": [],
   "source": [
    "# first, group by outcome\n",
    "hga_outc = hga_roi.groupby('trials').mean('trials')\n",
    "\n",
    "# second, group by brain regions\n",
    "hga_outcr = hga_outc.groupby('parcels').mean('parcels')"
   ]
  },
  {
   "cell_type": "markdown",
   "id": "d5290ec0-da14-41a2-8e93-381946c03f8f",
   "metadata": {},
   "source": [
    "# **3. Plotting**\n",
    "## 3.1 Single time-series"
   ]
  },
  {
   "cell_type": "code",
   "execution_count": null,
   "id": "38da17d4-89f9-464d-a664-9263d7666ec7",
   "metadata": {},
   "outputs": [],
   "source": [
    "hga_outcr.mean('trials').sel(parcels='aINS').plot();"
   ]
  },
  {
   "cell_type": "markdown",
   "id": "ec972b06-d56a-4266-84ff-6dbbca778d76",
   "metadata": {},
   "source": [
    "## 3.2 Plot all outcomes"
   ]
  },
  {
   "cell_type": "code",
   "execution_count": null,
   "id": "d18a4bdf-e870-4204-a4cd-4da44d9a4b56",
   "metadata": {},
   "outputs": [],
   "source": [
    "hga_outcr.sel(parcels='aINS').plot(x='times', hue='trials');"
   ]
  },
  {
   "cell_type": "markdown",
   "id": "0022e5ea-baa3-4108-9523-f16cb79d157d",
   "metadata": {},
   "source": [
    "## 3.3 Plot all outcomes and all of the brain regions"
   ]
  },
  {
   "cell_type": "code",
   "execution_count": null,
   "id": "2ae74a27-2da9-417c-bfb2-6cb6a61514e1",
   "metadata": {},
   "outputs": [],
   "source": [
    "hga_outcr.plot(x='times', hue='trials', col='parcels');"
   ]
  }
 ],
 "metadata": {
  "kernelspec": {
   "display_name": "Python 3",
   "language": "python",
   "name": "python3"
  },
  "language_info": {
   "codemirror_mode": {
    "name": "ipython",
    "version": 3
   },
   "file_extension": ".py",
   "mimetype": "text/x-python",
   "name": "python",
   "nbconvert_exporter": "python",
   "pygments_lexer": "ipython3",
   "version": "3.7.8"
  }
 },
 "nbformat": 4,
 "nbformat_minor": 5
}
