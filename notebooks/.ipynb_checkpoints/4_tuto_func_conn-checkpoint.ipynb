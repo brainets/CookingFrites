{
 "cells": [
  {
   "cell_type": "markdown",
   "id": "0c8ba174-6340-48b3-b822-b13810632a66",
   "metadata": {
    "tags": []
   },
   "source": [
    "# **--- Estimate the Functional Connectivity (FC) ---**\n",
    "---\n",
    "\n",
    "In this tutorial, we're going to go through the following points :\n",
    "1. Estimation of the undirected static and dynamic FC\n",
    "1. Estimation of the directed static and dynamic FC"
   ]
  },
  {
   "cell_type": "code",
   "execution_count": null,
   "id": "fcfd0c3d-f32d-4a13-b075-59cc8977c920",
   "metadata": {},
   "outputs": [],
   "source": [
    "import os\n",
    "\n",
    "import numpy as np\n",
    "import scipy\n",
    "import xarray as xr\n",
    "import pandas as pd\n",
    "\n",
    "from frites.conn import (conn_dfc, conn_covgc, conn_reshape_undirected,\n",
    "                         conn_reshape_directed, define_windows, plot_windows,\n",
    "                         conn_ravel_directed)\n",
    "\n",
    "import matplotlib.pyplot as plt\n",
    "from ipywidgets import interact, fixed\n",
    "\n",
    "plt.style.use('seaborn-dark')\n",
    "plt.style.use('seaborn-poster')\n",
    "\n",
    "%load_ext autoreload\n",
    "%autoreload 2"
   ]
  },
  {
   "cell_type": "markdown",
   "id": "efe82247-0fce-4636-9c92-16fdf7f87284",
   "metadata": {},
   "source": [
    "---\n",
    "# **--- ROOT PATH ---**\n",
    "\n",
    "<div class=\"alert alert-info\"><p>\n",
    "\n",
    "Define the path to where the data are located !\n",
    "</p></div>"
   ]
  },
  {
   "cell_type": "code",
   "execution_count": null,
   "id": "e062af53-a09f-4a93-befd-c1a66ebbee2d",
   "metadata": {},
   "outputs": [],
   "source": [
    "ROOT = '/run/media/etienne/DATA/Toolbox/BraiNets/CookingFrites/dataset/'"
   ]
  },
  {
   "cell_type": "markdown",
   "id": "9b626a4f-339d-43c1-ab7f-3639418c1dbd",
   "metadata": {
    "tags": []
   },
   "source": [
    "---\n",
    "# **0 - Functions**"
   ]
  },
  {
   "cell_type": "code",
   "execution_count": null,
   "id": "3134aba1-5195-499a-8e44-9a0a9da002bf",
   "metadata": {
    "tags": []
   },
   "outputs": [],
   "source": [
    "###############################################################################\n",
    "###############################################################################\n",
    "#                 Load the data of a single subject\n",
    "###############################################################################\n",
    "###############################################################################\n",
    "\n",
    "def load_ss(subject_nb):\n",
    "    \"\"\"Load the data of a single subject.\n",
    "    \n",
    "    Parameters\n",
    "    ----------\n",
    "    subject_nb : int\n",
    "        Subject number [0, 12]\n",
    "    \n",
    "    Returns\n",
    "    -------\n",
    "    hga : xarray.DataArray\n",
    "        Xarray containing the high-gamma activity\n",
    "    anat : pandas.DataFrame\n",
    "        Table containing the anatomical informations\n",
    "    beh : pandas.DataFrame\n",
    "        Table containing the behavioral informations\n",
    "    \"\"\"\n",
    "    # load the high-gamma activity\n",
    "    file_hga = os.path.join(ROOT, 'hga', f'hga_s-{subject_nb}.nc')\n",
    "    hga = xr.load_dataarray(file_hga)\n",
    "\n",
    "    # load the name of the brain regions\n",
    "    file_anat = os.path.join(ROOT, 'anat', f'anat_s-{subject_nb}.xlsx')\n",
    "    anat = pd.read_excel(file_anat)\n",
    "\n",
    "    # load the behavior\n",
    "    file_beh = os.path.join(ROOT, 'beh', f'beh_s-{subject_nb}.xlsx')\n",
    "    beh = pd.read_excel(file_beh)\n",
    "    \n",
    "    # simplify channel names (keep only the first contact name)\n",
    "    hga['channels'] = [c.split('-')[0] for c in hga['channels'].data]\n",
    "    \n",
    "    return hga, anat, beh\n",
    "\n",
    "\n",
    "###############################################################################\n",
    "###############################################################################\n",
    "#                 Load the data of multiple subjects\n",
    "###############################################################################\n",
    "###############################################################################\n",
    "\n",
    "def load_ms(s_range=[0, 11], model='outcome', condition='rew',\n",
    "            space='channels', mean_roi=True, prepend_suj_to_ch=True):\n",
    "    \"\"\"Load multiple subjects.\n",
    "    \n",
    "    Parameters\n",
    "    ----------\n",
    "    s_range : int or list\n",
    "        Subjects to load. Use either an integer (e.g. 7) to load a single\n",
    "        subject or a range of subjects (e.g. [5, 10])\n",
    "    model : {'outcome', 'pe', 'rt'}\n",
    "        Model to use. Use either :\n",
    "        \n",
    "            * 'outcome' : find differences in the neural activity between the\n",
    "              outcomes\n",
    "            * 'pe' : find regions with an activity correlating with the\n",
    "              prediction error\n",
    "            * 'rt' : find regions with an activity correlating with the\n",
    "              reaction time\n",
    "    condition : {'rew', 'pun', 'context', 'null'}\n",
    "        Condition to load. Use either :\n",
    "        \n",
    "            * 'rew' : for outcomes {+0€; +1€}\n",
    "            * 'pun' : for outcomes {-1€; -0€}\n",
    "            * 'context' : for outcomes {-1€; +1€}\n",
    "            * 'null' : for outcomes {-0€; +0€}\n",
    "    space : {'channels', 'roi'}\n",
    "        Specify if the spatial dimension should be described with channel names\n",
    "        or with brain region names\n",
    "    mean_roi : bool\n",
    "        Specify if you want to take the mean high-gamma activity inside a brain\n",
    "        region\n",
    "    prepend_suj_to_ch : bool\n",
    "        Add subject name to each channel name\n",
    "    \n",
    "    Returns\n",
    "    -------\n",
    "    hga : list\n",
    "        List of high-gamma activity across subjects\n",
    "    \"\"\"\n",
    "    # inputs checking\n",
    "    if isinstance(s_range, int):\n",
    "        s_range = [s_range, s_range]\n",
    "    s_range[1] += 1\n",
    "    s_range[0], s_range[1] = max(s_range[0], 0), min(s_range[1], 12)\n",
    "    mesg = f\"Subject %i | model={model} | condition={condition} | space={space}\"\n",
    "    pbar = ProgressBar(range(s_range[0], s_range[1]), mesg=mesg % 0)\n",
    "    model = model.lower()\n",
    "    assert space in ['channels', 'parcels', 'roi']\n",
    "    \n",
    "    # get the code of the condition\n",
    "    outc = {\n",
    "        'rew': (+1, +2),\n",
    "        'pun': (-2, -1),\n",
    "        'context': (-2, +2),\n",
    "        'null': (-1, +1)\n",
    "    }[condition]\n",
    "    \n",
    "    # get the behavioral column to use\n",
    "    col = {\n",
    "        'outcome': 'code',\n",
    "        'pe': 'PE',\n",
    "        'rt': 'RT'\n",
    "    }[model]\n",
    "    \n",
    "    # load the data\n",
    "    hga = []\n",
    "    for n_s in range(s_range[0], s_range[1]):\n",
    "        pbar._tqdm.desc = mesg % n_s\n",
    "        # load the data of a single subject\n",
    "        _hga, _anat, _beh = load_ss(n_s)\n",
    "        _outc = _hga['trials'].data\n",
    "        _ch = _hga['channels'].data\n",
    "        \n",
    "        # replace trial dimension with the model\n",
    "        _hga = _hga.rename(trials=model)\n",
    "        _hga[model] = list(_beh[col])\n",
    "        \n",
    "        # get which outcome to keep\n",
    "        keep_outc = np.logical_or(_outc == outc[0], _outc == outc[1])\n",
    "        _hga = _hga[keep_outc, ...]\n",
    "        \n",
    "        # replace with brain regions\n",
    "        if space in ['parcels', 'roi']:\n",
    "            _hga = _hga.rename(channels=space)\n",
    "            _hga[space] = list(_anat['roi'])\n",
    "            \n",
    "            # take the mean of the hga per parcel\n",
    "            if mean_roi:\n",
    "                _hga = _hga.groupby(space).mean(space)\n",
    "        elif prepend_suj_to_ch and (space == 'channels'):\n",
    "            # prepend subject number to channel name\n",
    "            _hga['channels'] = [f\"suj{n_s}/{c}\" for c in _ch]\n",
    "        \n",
    "        # ascontinuous array\n",
    "        _hga.data = np.ascontiguousarray(_hga.data)\n",
    "        \n",
    "        hga.append(_hga)\n",
    "        pbar.update_with_increment_value(1)\n",
    "\n",
    "    return hga\n",
    "\n",
    "\n",
    "###############################################################################\n",
    "###############################################################################\n",
    "#                           Plotting the results\n",
    "###############################################################################\n",
    "###############################################################################\n",
    "\n",
    "def plot_conn(conn, figsize=(13, 10), cmap='Spectral_r', interactive=False):\n",
    "    \"\"\"Plot the connectivity array.\n",
    "    \n",
    "    Parameters\n",
    "    ----------\n",
    "    conn : xr.DataArray\n",
    "        Output of a function to estimate the FC\n",
    "    figsize : tuple\n",
    "        Figure size\n",
    "    cmap : string\n",
    "        Colormap\n",
    "    \"\"\"\n",
    "    # get if the connectivity array is directed or not\n",
    "    if 'type' in conn.attrs.keys():\n",
    "        directed = conn.attrs['type'] != 'dfc'\n",
    "    else:\n",
    "        directed = False\n",
    "    \n",
    "    # split between dynamic interactive or static\n",
    "    if interactive:\n",
    "        if directed:\n",
    "            conn = conn_ravel_directed(conn.copy())\n",
    "\n",
    "        @interact(roi=conn['roi'].data, demean=True, conn=fixed(conn))\n",
    "        def plot(conn=None, roi=conn['roi'].data[0], demean=True):\n",
    "            sub_times = conn['times'].data\n",
    "            roi_idx = conn['roi'].data.tolist().index(roi)\n",
    "\n",
    "            # compute confidence interval across trials\n",
    "            confidence = 0.95\n",
    "            n = len(conn['trials'])\n",
    "            m = conn.mean('trials').data\n",
    "            se = scipy.stats.sem(conn.data, axis=0)\n",
    "            h = se * scipy.stats.t.ppf((1 + confidence) / 2., n - 1)\n",
    "            clow, chigh = m - h, m + h\n",
    "            conn_m = conn.mean('trials')\n",
    "            \n",
    "            # data detrending\n",
    "            if demean:\n",
    "                cmin = conn_m.min('times', keepdims=True)\n",
    "                conn_m.data -= cmin.data\n",
    "                clow -= cmin.data\n",
    "                chigh -= cmin.data\n",
    "            else:\n",
    "                pass\n",
    "\n",
    "            cmin, cmax = clow.min(), chigh.max()\n",
    "            dp = (cmax - cmin) / 20\n",
    "            plt.plot(sub_times, conn_m.sel(roi=roi))\n",
    "            plt.grid(True)\n",
    "            plt.axvline(0., color='k', linestyle='--')\n",
    "            plt.ylim(cmin - dp, cmax + dp)\n",
    "            plt.xlim(sub_times[0], sub_times[-1])\n",
    "            plt.fill_between(sub_times, clow[roi_idx, :], chigh[roi_idx, :],\n",
    "                             alpha=.1)\n",
    "    else:\n",
    "        # average across the trial dimension\n",
    "        conn = conn.mean('trials')\n",
    "\n",
    "        if len(conn['times']) == 1:\n",
    "            if not directed:\n",
    "                df = conn_reshape_undirected(conn).squeeze().to_pandas()\n",
    "            else:\n",
    "                df = conn_reshape_directed(conn).squeeze().to_pandas()\n",
    "        else:\n",
    "            df = conn.to_pandas()\n",
    "\n",
    "        vmin = np.nanpercentile(df.values, 1)\n",
    "        vmax = np.nanpercentile(df.values, 99)\n",
    "\n",
    "        plt.figure(figsize=figsize)\n",
    "        plt.imshow(df.values, cmap=cmap, vmin=vmin, vmax=vmax)\n",
    "        ax = plt.gca()\n",
    "        ax.set_xticks(np.arange(len(df.columns)))\n",
    "        ax.set_yticks(np.arange(len(df.index)))\n",
    "        ax.set_xticklabels(df.columns)\n",
    "        ax.set_yticklabels(df.index)\n",
    "        plt.colorbar()\n",
    "        if directed:\n",
    "            plt.xlabel('Targets'), plt.ylabel('Sources')\n"
   ]
  },
  {
   "cell_type": "markdown",
   "id": "97c7a5e7-c18d-4eb9-ba1a-f897574f7bd5",
   "metadata": {},
   "source": [
    "# **1. Undirected FC**\n",
    "## 1.1 Undirecteda and static, FC\n",
    "### 1.1.1 Selecting a period of interest"
   ]
  },
  {
   "cell_type": "code",
   "execution_count": null,
   "id": "c0ec2da2-6767-40de-9572-097ee714e24c",
   "metadata": {},
   "outputs": [],
   "source": [
    "# load the data of a single subject\n",
    "hga = load_ss(7)[0]\n",
    "\n",
    "# plot the data of the subject\n",
    "_t = hga['times'].sel(times=slice(0., 0.75)).data\n",
    "hga.mean('trials').plot(x='times', hue='channels')\n",
    "plt.grid(True);\n",
    "plt.axvline(0., color='k');\n",
    "plt.fill_between(_t, np.full((len(_t),), -.2), np.full((len(_t),), 1.5),\n",
    "                 color='red', alpha=.1)\n",
    "plt.xlim(-.5, 1.5), plt.ylim(-.2, 1.5);"
   ]
  },
  {
   "cell_type": "markdown",
   "id": "fcec2627-5286-4dc4-9a60-420a07fb93b6",
   "metadata": {},
   "source": [
    "### 1.1.2 Compute the FC"
   ]
  },
  {
   "cell_type": "code",
   "execution_count": null,
   "id": "b7b0a53c-7075-4473-878d-c02b1e6c63ea",
   "metadata": {},
   "outputs": [],
   "source": [
    "# select the data during the period in red\n",
    "hga_poi = hga.sel(times=slice(0., .75))\n",
    "\n",
    "# compute the functional connectivity (amplitude correlation)\n",
    "conn_us = conn_dfc(hga_poi, roi='channels', times='times')\n",
    "\n",
    "conn_us"
   ]
  },
  {
   "cell_type": "markdown",
   "id": "c9a0f080-9871-4afa-91b1-079cbd8991ba",
   "metadata": {},
   "source": [
    "### 1.1.3 Connectivity array reshaping"
   ]
  },
  {
   "cell_type": "code",
   "execution_count": null,
   "id": "aa8a5005-19af-4fca-91a0-09f6a0eb49a4",
   "metadata": {},
   "outputs": [],
   "source": [
    "conn_rsh = conn_reshape_undirected(\n",
    "    conn_us.mean('trials'), \n",
    ")\n",
    "conn_rsh"
   ]
  },
  {
   "cell_type": "markdown",
   "id": "f2e94a34-a1dc-4a38-9984-a6e1c4228c1d",
   "metadata": {},
   "source": [
    "### 1.1.4 Plotting the connectivity array"
   ]
  },
  {
   "cell_type": "code",
   "execution_count": null,
   "id": "3102bc2d-f0de-4795-93bd-d72bde9fbaf7",
   "metadata": {},
   "outputs": [],
   "source": [
    "plot_conn(conn_us)"
   ]
  },
  {
   "cell_type": "markdown",
   "id": "8621e371-b1a8-4ca5-930f-e22a5a66ee3d",
   "metadata": {},
   "source": [
    "## 1.2 Undirected and dynamic FC\n",
    "### 1.2.1 Build sliding windows"
   ]
  },
  {
   "cell_type": "code",
   "execution_count": null,
   "id": "c3a80535-cc1b-4c44-a651-3adaea933cbe",
   "metadata": {},
   "outputs": [],
   "source": [
    "###############################################################################\n",
    "win_len = .7  # windows of length 750ms\n",
    "win_step = 0.4  # 10ms between each consecutive windows\n",
    "###############################################################################\n",
    "\n",
    "# get the time vector\n",
    "times = hga['times'].data\n",
    "\n",
    "# define sliding windows\n",
    "win_sample, mean_time = define_windows(\n",
    "    times, slwin_len=win_len, slwin_step=win_step\n",
    ")\n",
    "\n",
    "# plot the windows\n",
    "plot_windows(times, win_sample)\n",
    "plt.ylim(-0.8, 0.8), plt.xlim(-.5, 1.5);"
   ]
  },
  {
   "cell_type": "markdown",
   "id": "7703945e-677b-4328-b116-c62bb0123122",
   "metadata": {},
   "source": [
    "### 1.2.2 Compute the FC inside the sliding windows"
   ]
  },
  {
   "cell_type": "code",
   "execution_count": null,
   "id": "24f79d8e-8876-417c-a3ce-1308859a4b42",
   "metadata": {},
   "outputs": [],
   "source": [
    "conn_ud = conn_dfc(hga, win_sample=win_sample, roi='channels', times='times')\n",
    "conn_ud"
   ]
  },
  {
   "cell_type": "markdown",
   "id": "c5bf668c-118f-4d74-8945-62bdc1905aa7",
   "metadata": {},
   "source": [
    "### 1.2.3 Plot the result"
   ]
  },
  {
   "cell_type": "code",
   "execution_count": null,
   "id": "84911231-fb0e-454b-9ac5-0195f714f7f9",
   "metadata": {},
   "outputs": [],
   "source": [
    "plot_conn(conn_ud, interactive=True)"
   ]
  },
  {
   "cell_type": "markdown",
   "id": "d9229703-68d7-4a7b-b336-6e0d283eb809",
   "metadata": {},
   "source": [
    "### 1.2.4 Increase the resolution"
   ]
  },
  {
   "cell_type": "code",
   "execution_count": null,
   "id": "8d19bc8b-17ef-48d3-963b-59a9ce84a19d",
   "metadata": {},
   "outputs": [],
   "source": [
    "# define sliding windows\n",
    "win_sample, mean_time = define_windows(\n",
    "    times, slwin_len=0.5, slwin_step=0.05\n",
    ")\n",
    "\n",
    "# compute the connectivity\n",
    "conn_ud = conn_dfc(hga, win_sample=win_sample, roi='channels', times='times')\n",
    "\n",
    "# plot the result\n",
    "plot_conn(conn_ud, interactive=True)"
   ]
  },
  {
   "cell_type": "code",
   "execution_count": null,
   "id": "5dbd94b8-ee61-4997-82d0-fc63a3121a01",
   "metadata": {},
   "outputs": [],
   "source": [
    "from frites.conn import conn_fcd_corr\n",
    "\n",
    "conn_fcd_corr(conn_ud)"
   ]
  },
  {
   "cell_type": "markdown",
   "id": "13433ae9-cfa5-45c2-9ed7-724e2422f86c",
   "metadata": {},
   "source": [
    "# **2. Directed FC**\n",
    "## 2.1 Directed and static FC"
   ]
  },
  {
   "cell_type": "code",
   "execution_count": null,
   "id": "9c672aff-a7e1-4793-8876-59b5fb519b91",
   "metadata": {},
   "outputs": [],
   "source": [
    "###############################################################################\n",
    "dt = .75   # length \n",
    "lag = .25\n",
    "t0 = 0.\n",
    "###############################################################################\n",
    "\n",
    "# load the data of a single subject\n",
    "hga = load_ss(7)[0]\n",
    "sfreq = hga.attrs['sfreq']\n",
    "\n",
    "# time to sample conversion\n",
    "dt_s = int(dt * sfreq)\n",
    "lag_s = int(lag * sfreq)\n",
    "t0_s = int(t0 * sfreq)\n",
    "\n",
    "# compute the directed connectivity\n",
    "conn_ds = conn_covgc(hga, dt_s, lag_s, t0_s, roi='channels', times='times',\n",
    "                     n_jobs=-1)"
   ]
  },
  {
   "cell_type": "code",
   "execution_count": null,
   "id": "7eb57950-6f95-49c6-aa05-82d0900bb891",
   "metadata": {},
   "outputs": [],
   "source": [
    "plot_conn(conn_ds)"
   ]
  },
  {
   "cell_type": "markdown",
   "id": "e44e10c0-bc3d-4588-93fa-6c96df2d3cb3",
   "metadata": {},
   "source": [
    "## 2.1 Directed and dynamic FC _(bonus)_\n",
    "\n",
    "<div class=\"alert alert-success\"><p>\n",
    "\n",
    "It's possible, but it's also computationaly very expenssive...\n",
    "</p></div>"
   ]
  },
  {
   "cell_type": "code",
   "execution_count": null,
   "id": "09eb0934-7b3e-4d9b-be6c-62f8ba537d9b",
   "metadata": {},
   "outputs": [],
   "source": [
    "# define several t0\n",
    "t0_range = (np.linspace(-.25, 1., 20) * sfreq).astype(int)\n",
    "\n",
    "# compute the dynamic for all of the t0\n",
    "conn_dd = conn_covgc(hga, dt_s, lag_s, t0_range, roi='channels', times='times',\n",
    "                     n_jobs=-1)"
   ]
  },
  {
   "cell_type": "code",
   "execution_count": null,
   "id": "54b186bc-eb33-4d56-95b2-9c360e22ad80",
   "metadata": {},
   "outputs": [],
   "source": [
    "plot_conn(conn_dd.copy(), interactive=True)"
   ]
  },
  {
   "cell_type": "markdown",
   "id": "e18d40b1-eb15-46d7-a200-e606d392e506",
   "metadata": {},
   "source": [
    "---\n",
    "# **---- Test yourself ! ----**\n",
    "## **1. Undirected FC between channels**\n",
    "### 1.1 Load and prepare the data\n",
    "\n",
    "<div class=\"alert alert-warning\"><p>\n",
    "\n",
    "**[Instructions]**\n",
    "\n",
    "Load the data of subject #4. Then, define a variable `hga_s` which is going to contained the HGA of subject #4 during the **temporal period between [0, 1.5]s**\n",
    "</p></div>"
   ]
  },
  {
   "cell_type": "code",
   "execution_count": null,
   "id": "d9a2b1ad-ca03-4be0-8564-9238a7670c15",
   "metadata": {},
   "outputs": [],
   "source": [
    "# write your answer"
   ]
  },
  {
   "cell_type": "markdown",
   "id": "4fac48e2-d79d-4ac1-9875-4f848da3dcad",
   "metadata": {},
   "source": [
    "### 1.2 Compute the static undirected FC\n",
    "\n",
    "<div class=\"alert alert-warning\"><p>\n",
    "\n",
    "**[Instructions]**\n",
    "\n",
    "Compute the static undirected connectivity (`conn_dfc`) on the variable `hga_s`. Save the output in a variable called `dfc`\n",
    "</p></div>"
   ]
  },
  {
   "cell_type": "code",
   "execution_count": null,
   "id": "2cd9dcd7-2505-4f17-b255-0b320a52a0fe",
   "metadata": {},
   "outputs": [],
   "source": [
    "# write your answer"
   ]
  },
  {
   "cell_type": "markdown",
   "id": "22e9ce6a-a59c-4fa9-b4d8-6b3748fee806",
   "metadata": {},
   "source": [
    "### 1.3 Plot the results\n",
    "\n",
    "<div class=\"alert alert-warning\"><p>\n",
    "\n",
    "**[Instructions]**\n",
    "\n",
    "Use the function `plot_conn` to plot the variable `dfc`. **What is the pair of contacts that are the more strongly connected?**\n",
    "</p></div>"
   ]
  },
  {
   "cell_type": "code",
   "execution_count": null,
   "id": "79cbd8a8-0720-4613-96f1-2adf771e2791",
   "metadata": {},
   "outputs": [],
   "source": [
    "# write your answer"
   ]
  },
  {
   "cell_type": "markdown",
   "id": "78caa34d-222b-4f53-83f5-bbce710f4b00",
   "metadata": {},
   "source": [
    "### 1.4 Mean DFC across trials\n",
    "\n",
    "<div class=\"alert alert-warning\"><p>\n",
    "\n",
    "**[Instructions]**\n",
    "\n",
    "Take the mean of the DFC across trials and save the result in a variable called `dfc_m`\n",
    "</p></div>"
   ]
  },
  {
   "cell_type": "code",
   "execution_count": null,
   "id": "9a68f160-d109-4b25-ac57-07e24f986de0",
   "metadata": {},
   "outputs": [],
   "source": [
    "# write your answer"
   ]
  },
  {
   "cell_type": "markdown",
   "id": "ec7be41b-1d66-4242-a77b-2023ce10538e",
   "metadata": {},
   "source": [
    "### 1.5 Reshape the connectivity matrix\n",
    "\n",
    "<div class=\"alert alert-warning\"><p>\n",
    "\n",
    "**[Instructions]**\n",
    "\n",
    "Use the function `conn_reshape_undirected` on `dfc_m` to reshape the connectivity matrix (so that it becomes a 2D matrix)\n",
    "</p></div>"
   ]
  },
  {
   "cell_type": "code",
   "execution_count": null,
   "id": "18170255-e0d6-4803-8bb2-0fb8d3a5c3ae",
   "metadata": {},
   "outputs": [],
   "source": [
    "# write your answer"
   ]
  },
  {
   "cell_type": "markdown",
   "id": "7aecdd21-8db9-41de-819e-5713373f10a5",
   "metadata": {},
   "source": [
    "---\n",
    "## 2. **Undirected FC between brain regions**\n",
    "### 2.1 Data preparation\n",
    "\n",
    "In the section above, we computed the connectivity between the channels of subject #4. In this section, we're going to compute the FC between **brain regions** of subject #2\n",
    "\n",
    "<div class=\"alert alert-warning\"><p>\n",
    "\n",
    "**[Instructions]**\n",
    "\n",
    "1. Load the data of subject #2 (`hga, anat, beh = load_ss(...)`)\n",
    "2. Rename the dimension `channels` of the `hga` to be `roi`\n",
    "3. From the `anat` output, get the list of brain regions (`list(anat['roi'])`) and fill the dimension `roi` of the variable `hga` with the name of the brain regions\n",
    "</p></div>"
   ]
  },
  {
   "cell_type": "code",
   "execution_count": null,
   "id": "a2a9da0c-bb98-45bd-80e4-f71975aebec8",
   "metadata": {},
   "outputs": [],
   "source": [
    "# write your answer"
   ]
  },
  {
   "cell_type": "markdown",
   "id": "87af32d7-f81e-4bb2-9841-9ce62464f832",
   "metadata": {},
   "source": [
    "### 2.2 Mean HGA inside brain regions\n",
    "\n",
    "<div class=\"alert alert-warning\"><p>\n",
    "\n",
    "**[Instructions]**\n",
    "\n",
    "If you succeed in doing the previous part, your variable `hga` should now have a dimension `roi` with the name of the brain regions as a coordinate. Now, group by brain region name (`.groupby(...)`) and take the mean inside each brain region (`.mean(...)`). Save the result in a variable `hga_r`.\n",
    "    \n",
    "**How many brain regions the variable `hga_r` has?**\n",
    "</p></div>"
   ]
  },
  {
   "cell_type": "code",
   "execution_count": null,
   "id": "e09b5fae-12a1-4357-a0f6-ed629e360e20",
   "metadata": {},
   "outputs": [],
   "source": [
    "# write your answer"
   ]
  },
  {
   "cell_type": "markdown",
   "id": "41c29760-eaa5-498d-875d-7a0cc2d54440",
   "metadata": {},
   "source": [
    "### 2.3 Compute the FC between brain regions\n",
    "\n",
    "<div class=\"alert alert-warning\"><p>\n",
    "\n",
    "**[Instructions]**\n",
    "\n",
    "Comute the undirected FC (`conn_dfc`) on `hga_r` during the **temporal period [0; 1.5]s** and save the result in a variable `dfc_r`. **How many pairs of brain regions the variable `dfc_r` has?**\n",
    "</p></div>"
   ]
  },
  {
   "cell_type": "code",
   "execution_count": null,
   "id": "ee4c2707-8034-4e52-823e-f8a57f5ce42e",
   "metadata": {},
   "outputs": [],
   "source": [
    "# write your answer"
   ]
  },
  {
   "cell_type": "markdown",
   "id": "7801c339-626d-46d8-89d3-ba3de9f82f8f",
   "metadata": {},
   "source": [
    "### 2.4 Plot the results\n",
    "\n",
    "<div class=\"alert alert-warning\"><p>\n",
    "\n",
    "**[Instructions]**\n",
    "\n",
    "Use the function `plot_conn` to plot the variable `dfc_r`. **What is the pair of brain regions with the strongest connection?**\n",
    "</p></div>"
   ]
  },
  {
   "cell_type": "code",
   "execution_count": null,
   "id": "9160c029-2205-4dd3-8fed-cb53fedd314b",
   "metadata": {},
   "outputs": [],
   "source": [
    "# write your answer"
   ]
  },
  {
   "cell_type": "markdown",
   "id": "f493552b-0e6f-46d3-82be-5e7076ac66db",
   "metadata": {},
   "source": [
    "### 2.5 Define sliding windows\n",
    "\n",
    "<div class=\"alert alert-warning\"><p>\n",
    "\n",
    "**[Instructions]**\n",
    "\n",
    "1. Get the time vector of the variable `hga_r` (`hga_r['times'].data`). Save the result in a variable called `times`\n",
    "2. Use the function `define_windows` to define sliding windows of length 300ms (`slwin_len`) and with a step of 30ms (`slwin_step`). Save your sliding windows in a variable called `ws`\n",
    "3 If you want, you can use the function `plot_windows` to plot your sliding windows\n",
    "</p></div>"
   ]
  },
  {
   "cell_type": "code",
   "execution_count": null,
   "id": "91bbeeff-627a-416e-880a-4e66c72bb75b",
   "metadata": {},
   "outputs": [],
   "source": [
    "# write your answer"
   ]
  },
  {
   "cell_type": "markdown",
   "id": "f969d122-dcd8-46f0-aa41-39dd73b1e4cd",
   "metadata": {},
   "source": [
    "### 2.6 Compute the dymanic undirected FC\n",
    "\n",
    "<div class=\"alert alert-warning\"><p>\n",
    "\n",
    "**[Instructions]**\n",
    "\n",
    "1. Now that you have your sliding windows in your variable `ws`, compute the dynamic functional connectivity on `hga_r` (`conn_dfc(..., win_sample=ws)`). Save the result in a variable called `dfc_us` \n",
    "2. Plot the result (`plot_conn(dfc_us, interactive=True)`).\n",
    "    \n",
    "**What is the pair of brain regions with the strongest connectivity AND at what time does it occurs?**\n",
    "</p></div>"
   ]
  },
  {
   "cell_type": "code",
   "execution_count": null,
   "id": "61a0653e-4ef1-4845-99c6-eb10812239de",
   "metadata": {},
   "outputs": [],
   "source": [
    "# write your answer"
   ]
  },
  {
   "cell_type": "code",
   "execution_count": null,
   "id": "28066f19-c88c-4f10-9136-790e91143a32",
   "metadata": {},
   "outputs": [],
   "source": []
  }
 ],
 "metadata": {
  "kernelspec": {
   "display_name": "Python 3",
   "language": "python",
   "name": "python3"
  },
  "language_info": {
   "codemirror_mode": {
    "name": "ipython",
    "version": 3
   },
   "file_extension": ".py",
   "mimetype": "text/x-python",
   "name": "python",
   "nbconvert_exporter": "python",
   "pygments_lexer": "ipython3",
   "version": "3.7.8"
  }
 },
 "nbformat": 4,
 "nbformat_minor": 5
}
