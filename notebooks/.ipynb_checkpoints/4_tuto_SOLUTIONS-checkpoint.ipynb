{
 "cells": [
  {
   "cell_type": "code",
   "execution_count": null,
   "id": "c3baeca1-7b1d-42c2-9425-0360a7285987",
   "metadata": {},
   "outputs": [],
   "source": [
    "import os\n",
    "\n",
    "import numpy as np\n",
    "import scipy\n",
    "import xarray as xr\n",
    "import pandas as pd\n",
    "\n",
    "from frites.conn import (conn_dfc, conn_covgc, conn_reshape_undirected,\n",
    "                         conn_reshape_directed, define_windows, plot_windows,\n",
    "                         conn_ravel_directed)\n",
    "\n",
    "import matplotlib.pyplot as plt\n",
    "from ipywidgets import interact, fixed\n",
    "\n",
    "plt.style.use('seaborn-dark')\n",
    "plt.style.use('seaborn-poster')\n",
    "\n",
    "%load_ext autoreload\n",
    "%autoreload 2"
   ]
  },
  {
   "cell_type": "markdown",
   "id": "4393c181-7f23-4773-b220-3a08b8dd9cda",
   "metadata": {},
   "source": [
    "---\n",
    "# **--- ROOT PATH ---**\n",
    "\n",
    "<div class=\"alert alert-info\"><p>\n",
    "\n",
    "Define the path to where the data are located !\n",
    "</p></div>"
   ]
  },
  {
   "cell_type": "code",
   "execution_count": null,
   "id": "d9091f98-a0f2-43c4-a290-837a971354a7",
   "metadata": {},
   "outputs": [],
   "source": [
    "ROOT = '/run/media/etienne/DATA/Toolbox/BraiNets/CookingFrites/dataset/'"
   ]
  },
  {
   "cell_type": "markdown",
   "id": "44ec1b0a-e863-4910-ba50-7b65e9ee7e37",
   "metadata": {
    "tags": []
   },
   "source": [
    "---\n",
    "# **0 - Functions**"
   ]
  },
  {
   "cell_type": "code",
   "execution_count": null,
   "id": "a123aab7-274b-43da-8b89-abf7affc715c",
   "metadata": {
    "tags": []
   },
   "outputs": [],
   "source": [
    "###############################################################################\n",
    "###############################################################################\n",
    "#                 Load the data of a single subject\n",
    "###############################################################################\n",
    "###############################################################################\n",
    "\n",
    "def load_ss(subject_nb):\n",
    "    \"\"\"Load the data of a single subject.\n",
    "    \n",
    "    Parameters\n",
    "    ----------\n",
    "    subject_nb : int\n",
    "        Subject number [0, 12]\n",
    "    \n",
    "    Returns\n",
    "    -------\n",
    "    hga : xarray.DataArray\n",
    "        Xarray containing the high-gamma activity\n",
    "    anat : pandas.DataFrame\n",
    "        Table containing the anatomical informations\n",
    "    beh : pandas.DataFrame\n",
    "        Table containing the behavioral informations\n",
    "    \"\"\"\n",
    "    # load the high-gamma activity\n",
    "    file_hga = os.path.join(ROOT, 'hga', f'hga_s-{subject_nb}.nc')\n",
    "    hga = xr.load_dataarray(file_hga)\n",
    "\n",
    "    # load the name of the brain regions\n",
    "    file_anat = os.path.join(ROOT, 'anat', f'anat_s-{subject_nb}.xlsx')\n",
    "    anat = pd.read_excel(file_anat)\n",
    "\n",
    "    # load the behavior\n",
    "    file_beh = os.path.join(ROOT, 'beh', f'beh_s-{subject_nb}.xlsx')\n",
    "    beh = pd.read_excel(file_beh)\n",
    "    \n",
    "    # simplify channel names (keep only the first contact name)\n",
    "    hga['channels'] = [c.split('-')[0] for c in hga['channels'].data]\n",
    "    \n",
    "    return hga, anat, beh\n",
    "\n",
    "\n",
    "###############################################################################\n",
    "###############################################################################\n",
    "#                 Load the data of multiple subjects\n",
    "###############################################################################\n",
    "###############################################################################\n",
    "\n",
    "def load_ms(s_range=[0, 11], model='outcome', condition='rew',\n",
    "            space='channels', mean_roi=True, prepend_suj_to_ch=True):\n",
    "    \"\"\"Load multiple subjects.\n",
    "    \n",
    "    Parameters\n",
    "    ----------\n",
    "    s_range : int or list\n",
    "        Subjects to load. Use either an integer (e.g. 7) to load a single\n",
    "        subject or a range of subjects (e.g. [5, 10])\n",
    "    model : {'outcome', 'pe', 'rt'}\n",
    "        Model to use. Use either :\n",
    "        \n",
    "            * 'outcome' : find differences in the neural activity between the\n",
    "              outcomes\n",
    "            * 'pe' : find regions with an activity correlating with the\n",
    "              prediction error\n",
    "            * 'rt' : find regions with an activity correlating with the\n",
    "              reaction time\n",
    "    condition : {'rew', 'pun', 'context', 'null'}\n",
    "        Condition to load. Use either :\n",
    "        \n",
    "            * 'rew' : for outcomes {+0€; +1€}\n",
    "            * 'pun' : for outcomes {-1€; -0€}\n",
    "            * 'context' : for outcomes {-1€; +1€}\n",
    "            * 'null' : for outcomes {-0€; +0€}\n",
    "    space : {'channels', 'roi'}\n",
    "        Specify if the spatial dimension should be described with channel names\n",
    "        or with brain region names\n",
    "    mean_roi : bool\n",
    "        Specify if you want to take the mean high-gamma activity inside a brain\n",
    "        region\n",
    "    prepend_suj_to_ch : bool\n",
    "        Add subject name to each channel name\n",
    "    \n",
    "    Returns\n",
    "    -------\n",
    "    hga : list\n",
    "        List of high-gamma activity across subjects\n",
    "    \"\"\"\n",
    "    # inputs checking\n",
    "    if isinstance(s_range, int):\n",
    "        s_range = [s_range, s_range]\n",
    "    s_range[1] += 1\n",
    "    s_range[0], s_range[1] = max(s_range[0], 0), min(s_range[1], 12)\n",
    "    mesg = f\"Subject %i | model={model} | condition={condition} | space={space}\"\n",
    "    pbar = ProgressBar(range(s_range[0], s_range[1]), mesg=mesg % 0)\n",
    "    model = model.lower()\n",
    "    assert space in ['channels', 'parcels', 'roi']\n",
    "    \n",
    "    # get the code of the condition\n",
    "    outc = {\n",
    "        'rew': (+1, +2),\n",
    "        'pun': (-2, -1),\n",
    "        'context': (-2, +2),\n",
    "        'null': (-1, +1)\n",
    "    }[condition]\n",
    "    \n",
    "    # get the behavioral column to use\n",
    "    col = {\n",
    "        'outcome': 'code',\n",
    "        'pe': 'PE',\n",
    "        'rt': 'RT'\n",
    "    }[model]\n",
    "    \n",
    "    # load the data\n",
    "    hga = []\n",
    "    for n_s in range(s_range[0], s_range[1]):\n",
    "        pbar._tqdm.desc = mesg % n_s\n",
    "        # load the data of a single subject\n",
    "        _hga, _anat, _beh = load_ss(n_s)\n",
    "        _outc = _hga['trials'].data\n",
    "        _ch = _hga['channels'].data\n",
    "        \n",
    "        # replace trial dimension with the model\n",
    "        _hga = _hga.rename(trials=model)\n",
    "        _hga[model] = list(_beh[col])\n",
    "        \n",
    "        # get which outcome to keep\n",
    "        keep_outc = np.logical_or(_outc == outc[0], _outc == outc[1])\n",
    "        _hga = _hga[keep_outc, ...]\n",
    "        \n",
    "        # replace with brain regions\n",
    "        if space in ['parcels', 'roi']:\n",
    "            _hga = _hga.rename(channels=space)\n",
    "            _hga[space] = list(_anat['roi'])\n",
    "            \n",
    "            # take the mean of the hga per parcel\n",
    "            if mean_roi:\n",
    "                _hga = _hga.groupby(space).mean(space)\n",
    "        elif prepend_suj_to_ch and (space == 'channels'):\n",
    "            # prepend subject number to channel name\n",
    "            _hga['channels'] = [f\"suj{n_s}/{c}\" for c in _ch]\n",
    "        \n",
    "        # ascontinuous array\n",
    "        _hga.data = np.ascontiguousarray(_hga.data)\n",
    "        \n",
    "        hga.append(_hga)\n",
    "        pbar.update_with_increment_value(1)\n",
    "\n",
    "    return hga\n",
    "\n",
    "\n",
    "###############################################################################\n",
    "###############################################################################\n",
    "#                           Plotting the results\n",
    "###############################################################################\n",
    "###############################################################################\n",
    "\n",
    "def plot_conn(conn, figsize=(13, 10), cmap='Spectral_r', interactive=False):\n",
    "    \"\"\"Plot the connectivity array.\n",
    "    \n",
    "    Parameters\n",
    "    ----------\n",
    "    conn : xr.DataArray\n",
    "        Output of a function to estimate the FC\n",
    "    figsize : tuple\n",
    "        Figure size\n",
    "    cmap : string\n",
    "        Colormap\n",
    "    \"\"\"\n",
    "    # get if the connectivity array is directed or not\n",
    "    if 'type' in conn.attrs.keys():\n",
    "        directed = conn.attrs['type'] != 'dfc'\n",
    "    else:\n",
    "        directed = False\n",
    "    \n",
    "    # split between dynamic interactive or static\n",
    "    if interactive:\n",
    "        if directed:\n",
    "            conn = conn_ravel_directed(conn.copy())\n",
    "\n",
    "        @interact(roi=conn['roi'].data, demean=True, conn=fixed(conn))\n",
    "        def plot(conn=None, roi=conn['roi'].data[0], demean=True):\n",
    "            sub_times = conn['times'].data\n",
    "            roi_idx = conn['roi'].data.tolist().index(roi)\n",
    "\n",
    "            # compute confidence interval across trials\n",
    "            confidence = 0.95\n",
    "            n = len(conn['trials'])\n",
    "            m = conn.mean('trials').data\n",
    "            se = scipy.stats.sem(conn.data, axis=0)\n",
    "            h = se * scipy.stats.t.ppf((1 + confidence) / 2., n - 1)\n",
    "            clow, chigh = m - h, m + h\n",
    "            conn_m = conn.mean('trials')\n",
    "            \n",
    "            # data detrending\n",
    "            if demean:\n",
    "                cmin = conn_m.min('times', keepdims=True)\n",
    "                conn_m.data -= cmin.data\n",
    "                clow -= cmin.data\n",
    "                chigh -= cmin.data\n",
    "            else:\n",
    "                pass\n",
    "\n",
    "            cmin, cmax = clow.min(), chigh.max()\n",
    "            dp = (cmax - cmin) / 20\n",
    "            plt.plot(sub_times, conn_m.sel(roi=roi))\n",
    "            plt.grid(True)\n",
    "            plt.axvline(0., color='k', linestyle='--')\n",
    "            plt.ylim(cmin - dp, cmax + dp)\n",
    "            plt.xlim(sub_times[0], sub_times[-1])\n",
    "            plt.fill_between(sub_times, clow[roi_idx, :], chigh[roi_idx, :],\n",
    "                             alpha=.1)\n",
    "    else:\n",
    "        # average across the trial dimension\n",
    "        if 'trials' in conn.dims:\n",
    "            conn = conn.mean('trials')\n",
    "\n",
    "        if len(conn['times']) == 1:\n",
    "            if not directed:\n",
    "                df = conn_reshape_undirected(conn).squeeze().to_pandas()\n",
    "            else:\n",
    "                df = conn_reshape_directed(conn).squeeze().to_pandas()\n",
    "        else:\n",
    "            df = conn.to_pandas()\n",
    "\n",
    "        vmin = np.nanpercentile(df.values, 1)\n",
    "        vmax = np.nanpercentile(df.values, 99)\n",
    "\n",
    "        plt.figure(figsize=figsize)\n",
    "        plt.imshow(df.values, cmap=cmap, vmin=vmin, vmax=vmax)\n",
    "        ax = plt.gca()\n",
    "        ax.set_xticks(np.arange(len(df.columns)))\n",
    "        ax.set_yticks(np.arange(len(df.index)))\n",
    "        ax.set_xticklabels(df.columns)\n",
    "        ax.set_yticklabels(df.index)\n",
    "        plt.colorbar()\n",
    "        if directed:\n",
    "            plt.xlabel('Targets'), plt.ylabel('Sources')\n"
   ]
  },
  {
   "cell_type": "markdown",
   "id": "4d9be25b-0d39-4bb9-b648-cf21b937b2fe",
   "metadata": {},
   "source": [
    "---\n",
    "# **1. Undirected FC between channels**\n",
    "## 1.1 Load and prepare the data"
   ]
  },
  {
   "cell_type": "code",
   "execution_count": null,
   "id": "40f17a17-1895-4c19-9817-43d85ae3296f",
   "metadata": {},
   "outputs": [],
   "source": [
    "# load the data of subject 2\n",
    "hga = load_ss(4)[0]\n",
    "\n",
    "# select the temporal period between [0, 1.5]s\n",
    "hga_s = hga.sel(times=slice(0., 1.5))"
   ]
  },
  {
   "cell_type": "markdown",
   "id": "59966090-3558-443a-99fc-f67653eba072",
   "metadata": {},
   "source": [
    "## 1.2 Compute the undirected FC"
   ]
  },
  {
   "cell_type": "code",
   "execution_count": null,
   "id": "31dcdcc3-88c8-4886-ba6e-c62c401386d9",
   "metadata": {},
   "outputs": [],
   "source": [
    "dfc = conn_dfc(hga_s, roi='channels', times='times')"
   ]
  },
  {
   "cell_type": "markdown",
   "id": "05b900b7-dd1d-4a53-91fc-0b3a841f29d4",
   "metadata": {},
   "source": [
    "## Plot the results"
   ]
  },
  {
   "cell_type": "code",
   "execution_count": null,
   "id": "72287fee-a978-43fa-a437-1d45616839ed",
   "metadata": {},
   "outputs": [],
   "source": [
    "# plot the results\n",
    "plot_conn(dfc)\n",
    "\n",
    "\"\"\"\n",
    "The pairs of contacts that are the more stronly connected is\n",
    "X6-X7\n",
    "\"\"\""
   ]
  },
  {
   "cell_type": "markdown",
   "id": "231ca1bf-2f80-4c1a-8390-3d692242ca0f",
   "metadata": {},
   "source": [
    "## 1.4 Mean DFC across trials"
   ]
  },
  {
   "cell_type": "code",
   "execution_count": null,
   "id": "8e5697e8-aed6-4190-8e34-b10cce781b47",
   "metadata": {},
   "outputs": [],
   "source": [
    "dfc_m = dfc.mean('trials')"
   ]
  },
  {
   "cell_type": "markdown",
   "id": "a1d87734-2907-4bff-ab72-52a96df10d7f",
   "metadata": {},
   "source": [
    "## 1.5 Reshape the connectivity matrix"
   ]
  },
  {
   "cell_type": "code",
   "execution_count": null,
   "id": "beef6f67-e218-457c-989f-555eb3271b77",
   "metadata": {},
   "outputs": [],
   "source": [
    "dfc_rsh = conn_reshape_undirected(dfc_m)"
   ]
  },
  {
   "cell_type": "markdown",
   "id": "e436606b-2c98-4a7b-be6c-5bbb49b46ef7",
   "metadata": {},
   "source": [
    "---\n",
    "# **2. Undirected FC between brain regions**\n",
    "## 2.1 Data preparation"
   ]
  },
  {
   "cell_type": "code",
   "execution_count": null,
   "id": "4e3d1164-c2ae-4e09-aae2-fc423a9c8bb4",
   "metadata": {},
   "outputs": [],
   "source": [
    "# 1. load the data of subject 2\n",
    "hga, anat, beh = load_ss(2)\n",
    "\n",
    "# 2. rename the channel dimension\n",
    "hga = hga.rename(channels='roi')\n",
    "\n",
    "# fill this dimension with the name of the brain regions\n",
    "hga['roi'] = list(anat['roi'])"
   ]
  },
  {
   "cell_type": "markdown",
   "id": "36ead498-223e-48b5-83ea-b6245a0baadc",
   "metadata": {},
   "source": [
    "## 2.2 Mean HGA inside brain regions"
   ]
  },
  {
   "cell_type": "code",
   "execution_count": null,
   "id": "8e518fb4-a47c-4ba7-b2ae-69fac6a2d19a",
   "metadata": {},
   "outputs": [],
   "source": [
    "# groupby brain region and take the mean\n",
    "hga_r = hga.groupby('roi').mean('roi')\n",
    "\n",
    "\"\"\"\n",
    "The variable `hga_r` has four brain regions (aINS, dlPFC, vmPFC and lOFC)\n",
    "\"\"\""
   ]
  },
  {
   "cell_type": "markdown",
   "id": "ae97c93a-62b6-4f9d-b023-591403012431",
   "metadata": {},
   "source": [
    "## 2.3 Compute the FC between brain regions"
   ]
  },
  {
   "cell_type": "code",
   "execution_count": null,
   "id": "dbc3da1c-2685-4042-b375-2c7a9e6f9eaf",
   "metadata": {},
   "outputs": [],
   "source": [
    "# compute the static FC between brain regions\n",
    "dfc_r = conn_dfc(hga_r.sel(times=slice(0, 1.5)), roi='roi', times='times')\n",
    "\n",
    "\"\"\"\n",
    "The output `dfc_r` has 6 pairs of brain regions\n",
    "\"\"\""
   ]
  },
  {
   "cell_type": "markdown",
   "id": "618107c4-6814-4503-99c6-a455bb0ad1f0",
   "metadata": {},
   "source": [
    "## 2.4 Plot the results"
   ]
  },
  {
   "cell_type": "code",
   "execution_count": null,
   "id": "20385d8c-9980-4c0a-8d56-6f1a71113c80",
   "metadata": {},
   "outputs": [],
   "source": [
    "# plot the connectivity matrix\n",
    "plot_conn(dfc_r)\n",
    "\n",
    "\"\"\"\n",
    "The connection between the aINS and vmPFC has the strongest connection\n",
    "\"\"\""
   ]
  },
  {
   "cell_type": "markdown",
   "id": "86341fd8-4197-4a68-ac51-70dc9872ecc7",
   "metadata": {},
   "source": [
    "## 2.5 Define sliding windows"
   ]
  },
  {
   "cell_type": "code",
   "execution_count": null,
   "id": "6a779d2b-f348-4e17-86c5-0a7a84f58e38",
   "metadata": {},
   "outputs": [],
   "source": [
    "# 1. get the time vector\n",
    "times = hga_r['times'].data\n",
    "\n",
    "# 2. define sliding windows\n",
    "ws, _ = define_windows(times, slwin_len=.3, slwin_step=.03)\n",
    "\n",
    "# 3. plot the sliding windows\n",
    "plot_windows(times, ws);"
   ]
  },
  {
   "cell_type": "markdown",
   "id": "419b46ef-f4bd-4cf0-94ad-dfd714485a00",
   "metadata": {},
   "source": [
    "## 2.6 Compute the dynamic undirected FC"
   ]
  },
  {
   "cell_type": "code",
   "execution_count": null,
   "id": "f25c5332-7ac7-40ff-adb4-8738a20bbf19",
   "metadata": {},
   "outputs": [],
   "source": [
    "# compute the DFC\n",
    "dfc_us = conn_dfc(hga_r, roi='roi', times='times', win_sample=ws)\n",
    "\n",
    "# plot the result\n",
    "plot_conn(dfc_us, interactive=True)\n",
    "\n",
    "\"\"\"\n",
    "The connection between the aINS and dlPFC has the strongest connectivity it the\n",
    "maximum is arround 300ms\n",
    "\"\"\""
   ]
  },
  {
   "cell_type": "code",
   "execution_count": null,
   "id": "de8600f0-6ffe-46e7-9399-81a0d0ccd3be",
   "metadata": {},
   "outputs": [],
   "source": []
  },
  {
   "cell_type": "code",
   "execution_count": null,
   "id": "bf50afc6-ffa4-46ce-a60d-b9968bf48c83",
   "metadata": {},
   "outputs": [],
   "source": []
  },
  {
   "cell_type": "code",
   "execution_count": null,
   "id": "bfe5e761-8dd0-4875-97b5-457e43aa0209",
   "metadata": {},
   "outputs": [],
   "source": []
  }
 ],
 "metadata": {
  "kernelspec": {
   "display_name": "Python 3",
   "language": "python",
   "name": "python3"
  },
  "language_info": {
   "codemirror_mode": {
    "name": "ipython",
    "version": 3
   },
   "file_extension": ".py",
   "mimetype": "text/x-python",
   "name": "python",
   "nbconvert_exporter": "python",
   "pygments_lexer": "ipython3",
   "version": "3.7.8"
  }
 },
 "nbformat": 4,
 "nbformat_minor": 5
}
