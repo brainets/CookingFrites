{
 "cells": [
  {
   "cell_type": "code",
   "execution_count": null,
   "id": "55e30b42-e399-4565-9129-567642001d57",
   "metadata": {},
   "outputs": [],
   "source": [
    "import os\n",
    "\n",
    "import numpy as np\n",
    "import xarray as xr\n",
    "import pandas as pd\n",
    "\n",
    "from mne import EpochsArray, create_info\n",
    "\n",
    "from frites.dataset import DatasetEphy\n",
    "\n",
    "import matplotlib.pyplot as plt"
   ]
  },
  {
   "cell_type": "markdown",
   "id": "18729477-4963-447e-86ac-108ec7f0f9f1",
   "metadata": {},
   "source": [
    "---\n",
    "# **--- ROOT PATH ---**\n",
    "\n",
    "<div class=\"alert alert-info\"><p>\n",
    "\n",
    "Define the path to where the data are located !\n",
    "</p></div>"
   ]
  },
  {
   "cell_type": "code",
   "execution_count": null,
   "id": "8c5fbb83-632c-4c1b-9456-7f8004bd8ffa",
   "metadata": {},
   "outputs": [],
   "source": [
    "ROOT = '/run/media/etienne/DATA/Toolbox/BraiNets/CookingFrites/dataset/'"
   ]
  },
  {
   "cell_type": "markdown",
   "id": "db89e7ff-7739-46c0-be6c-779675bcf52d",
   "metadata": {},
   "source": [
    "---\n",
    "# **0 - Functions**\n",
    "## Load the data of a single subject"
   ]
  },
  {
   "cell_type": "code",
   "execution_count": null,
   "id": "339b039f-b590-4d86-aa57-32197ccd604c",
   "metadata": {},
   "outputs": [],
   "source": [
    "def load_ss(subject_nb):\n",
    "    \"\"\"Load the data of a single subject.\n",
    "    \n",
    "    Parameters\n",
    "    ----------\n",
    "    subject_nb : int\n",
    "        Subject number [0, 12]\n",
    "    \n",
    "    Returns\n",
    "    -------\n",
    "    hga : xarray.DataArray\n",
    "        Xarray containing the high-gamma activity\n",
    "    anat : pandas.DataFrame\n",
    "        Table containing the anatomical informations\n",
    "    beh : pandas.DataFrame\n",
    "        Table containing the behavioral informations\n",
    "    \"\"\"\n",
    "    print(f\"Loading the data of subject #{subject_nb}\")\n",
    "\n",
    "    # load the high-gamma activity\n",
    "    file_hga = os.path.join(ROOT, 'hga', f'hga_s-{subject_nb}.nc')\n",
    "    hga = xr.load_dataarray(file_hga)\n",
    "\n",
    "    # load the name of the brain regions\n",
    "    file_anat = os.path.join(ROOT, 'anat', f'anat_s-{subject_nb}.xlsx')\n",
    "    anat = pd.read_excel(file_anat)\n",
    "\n",
    "    # load the behavior\n",
    "    file_beh = os.path.join(ROOT, 'beh', f'beh_s-{subject_nb}.xlsx')\n",
    "    beh = pd.read_excel(file_beh)\n",
    "    \n",
    "    return hga, anat, beh\n"
   ]
  },
  {
   "cell_type": "markdown",
   "id": "79b74abd-3c65-4f4c-9b49-d31f30e7334f",
   "metadata": {},
   "source": [
    "---"
   ]
  },
  {
   "cell_type": "markdown",
   "id": "13b4f170-0311-4102-8607-c41556533208",
   "metadata": {},
   "source": [
    "# **1. Load fresh data**"
   ]
  },
  {
   "cell_type": "code",
   "execution_count": null,
   "id": "2e65b254-e583-4893-a5bd-319d4b1b6014",
   "metadata": {},
   "outputs": [],
   "source": [
    "# load the data of subject #0\n",
    "subject_nb = 0\n",
    "hga, anat, beh = load_ss(subject_nb)"
   ]
  },
  {
   "cell_type": "markdown",
   "id": "d7772303-031e-4ca6-a3c9-d88f84c15948",
   "metadata": {},
   "source": [
    "---\n",
    "# **2. `DatasetEphy` with the Prediction Error**\n",
    "## 2.1 Plot the Prediction error"
   ]
  },
  {
   "cell_type": "code",
   "execution_count": null,
   "id": "ef0ba7c3-2950-4c15-bfa0-efbbe536abd7",
   "metadata": {},
   "outputs": [],
   "source": [
    "# get the prediction error\n",
    "pe = beh['PE']\n",
    "\n",
    "# get the block\n",
    "block = beh['block']\n",
    "\n",
    "# select pe for block 1\n",
    "pe_b1 = pe[block == 1]\n",
    "\n",
    "# plot the PE\n",
    "plt.plot(pe_b1)\n",
    "plt.xlabel(\"Number of trials\")\n",
    "plt.ylabel('Prediction Error')\n",
    "\n",
    "\"\"\"\n",
    "Pro tip #1\n",
    "-----------\n",
    "You can use directly pandas for selecting it\n",
    "\"\"\";\n",
    "# beh.set_index('block').loc[1, 'PE']\n",
    "\n",
    "\"\"\"\n",
    "Pro tip #2\n",
    "----------\n",
    "if you have seaborn (or plotly) installed, you can color by block !\n",
    "\"\"\";\n",
    "# plot using seaborn (if installed)\n",
    "# import seaborn as sns\n",
    "# sns.lineplot(data=beh, y='PE', hue='block', x=np.arange(len(beh)))\n",
    "\n",
    "# plot using plotly (if installed)\n",
    "# import plotly.express as px\n",
    "# px.line(beh, y='PE', color='block', hover_data=['valence'])"
   ]
  },
  {
   "cell_type": "markdown",
   "id": "37640939-7568-4a2c-9d2f-4f2a3ef61af5",
   "metadata": {},
   "source": [
    "## 2.2 Set the Prediction error as the trial coordinate"
   ]
  },
  {
   "cell_type": "code",
   "execution_count": null,
   "id": "d26cb5fe-4554-4ba8-9812-22bd9ccaecfb",
   "metadata": {},
   "outputs": [],
   "source": [
    "# rename the 'trial' dimension to be 'pe'\n",
    "hga = hga.rename(trials='pe')\n",
    "\n",
    "# fill the dimension 'pe' with the values of the PE\n",
    "hga['pe'] = list(beh['PE'])"
   ]
  },
  {
   "cell_type": "markdown",
   "id": "899249d9-eaeb-4d22-90b9-af0f0119b29f",
   "metadata": {},
   "source": [
    "## 2.3 Define a `DatasetEphy` for a single subject"
   ]
  },
  {
   "cell_type": "code",
   "execution_count": null,
   "id": "cef6596a-e293-4e64-951c-9b68708dee9f",
   "metadata": {},
   "outputs": [],
   "source": [
    "ds = DatasetEphy([hga], y='pe', roi='channels', times='times')\n",
    "ds"
   ]
  },
  {
   "cell_type": "markdown",
   "id": "a34721d6-7b32-4e1f-bfab-2de5ec520e4e",
   "metadata": {},
   "source": [
    "# **3. `DatasetEphy` with brain regions**\n",
    "## 3.1 Drop channels - replace with brain region names"
   ]
  },
  {
   "cell_type": "code",
   "execution_count": null,
   "id": "5c8872b3-d993-482b-bb78-651604d3d99f",
   "metadata": {},
   "outputs": [],
   "source": [
    "# get brain region names\n",
    "parcels = list(anat['roi'])\n",
    "\n",
    "# rename the dimension channels to be 'parcels'\n",
    "hga = hga.rename(channels='parcels')\n",
    "\n",
    "# fill this dimension with brain regino names\n",
    "hga['parcels'] = parcels\n",
    "\n",
    "# create the DatasetEphy\n",
    "ds = DatasetEphy([hga], y='pe', roi='parcels', times='times')\n",
    "ds"
   ]
  },
  {
   "cell_type": "markdown",
   "id": "012bc484-e28b-4cd5-ab01-95a08760c901",
   "metadata": {},
   "source": [
    "## 3.2 Do the same, for all of the subjects"
   ]
  },
  {
   "cell_type": "code",
   "execution_count": null,
   "id": "eb982bc0-86a8-4b77-8997-cdf92e4d48c6",
   "metadata": {},
   "outputs": [],
   "source": [
    "hga = []\n",
    "for n_s in range(12):\n",
    "    # load the data of the subject\n",
    "    _hga, _anat, _beh = load_ss(n_s)\n",
    "    \n",
    "    # use the PE instead of stimulus\n",
    "    _hga = _hga.rename(trials='pe')\n",
    "    _hga['pe'] = list(_beh['PE'])\n",
    "    \n",
    "    # use the brain regions instead of channel names\n",
    "    _hga = _hga.rename(channels='parcels')\n",
    "    _hga['parcels'] = list(_anat['roi'])\n",
    "    \n",
    "    # add this subject to the whole list\n",
    "    hga.append(_hga)\n",
    "\n",
    "# finally, build the DatasetEphy\n",
    "ds = DatasetEphy(hga, y='pe', times='times', roi='parcels')\n",
    "ds"
   ]
  },
  {
   "cell_type": "code",
   "execution_count": null,
   "id": "15e9d02c-0dc3-4200-b994-a1c224535b68",
   "metadata": {},
   "outputs": [],
   "source": []
  }
 ],
 "metadata": {
  "kernelspec": {
   "display_name": "Python 3",
   "language": "python",
   "name": "python3"
  },
  "language_info": {
   "codemirror_mode": {
    "name": "ipython",
    "version": 3
   },
   "file_extension": ".py",
   "mimetype": "text/x-python",
   "name": "python",
   "nbconvert_exporter": "python",
   "pygments_lexer": "ipython3",
   "version": "3.7.8"
  }
 },
 "nbformat": 4,
 "nbformat_minor": 5
}
