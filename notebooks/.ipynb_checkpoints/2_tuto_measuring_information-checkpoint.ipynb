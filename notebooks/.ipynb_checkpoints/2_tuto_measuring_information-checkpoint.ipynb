{
 "cells": [
  {
   "cell_type": "markdown",
   "id": "8160c3e0-01a8-4bd4-85b5-63d315e874a0",
   "metadata": {
    "tags": []
   },
   "source": [
    "# **--- `WfMi` : Measuring information ---**\n",
    "---\n",
    "\n",
    "In this tutorial, we're going to go through the following points :\n",
    "1. **[$I(continuous, discret)$]** = Measure the quantity of information shared between brain data and stimulus (or outcome) types (\\~decoding)\n",
    "2. **[$I(continuous, continuous)$]** = Measure the quantity of information shared between brain data and a continuous variable (e.g. behavioral model like PE, the reaction time etc.) (\\~regression)\n",
    "4. How to handle the spatial dimension\n",
    "    * Results at the single contact / channel level?\n",
    "    * Results inside a brain region by grouping the data coming from multiple channels?\n",
    "5. How to define a custom estimator of information"
   ]
  },
  {
   "cell_type": "code",
   "execution_count": null,
   "id": "68666509-891c-49cd-8055-d109321fe462",
   "metadata": {},
   "outputs": [],
   "source": [
    "import os\n",
    "\n",
    "import numpy as np\n",
    "import xarray as xr\n",
    "import pandas as pd\n",
    "\n",
    "from mne.utils import ProgressBar\n",
    "\n",
    "from frites.dataset import DatasetEphy\n",
    "from frites.workflow import WfMi\n",
    "\n",
    "import matplotlib.pyplot as plt"
   ]
  },
  {
   "cell_type": "markdown",
   "id": "7211db77-eb0c-49f0-9a07-53d2a6a82dda",
   "metadata": {},
   "source": [
    "---\n",
    "# **--- ROOT PATH ---**\n",
    "\n",
    "<div class=\"alert alert-info\"><p>\n",
    "\n",
    "Define the path to where the data are located !\n",
    "</p></div>"
   ]
  },
  {
   "cell_type": "code",
   "execution_count": null,
   "id": "b05b18d7-87a6-4e9f-a0e1-7f07743fbdc5",
   "metadata": {},
   "outputs": [],
   "source": [
    "ROOT = '/run/media/etienne/DATA/Toolbox/BraiNets/CookingFrites/dataset/'"
   ]
  },
  {
   "cell_type": "markdown",
   "id": "5abad188-4731-4b4d-9bf0-c4db6614cd26",
   "metadata": {
    "tags": []
   },
   "source": [
    "---\n",
    "# **0 - Functions**"
   ]
  },
  {
   "cell_type": "code",
   "execution_count": null,
   "id": "d6fb874d-d2b7-45fb-88c0-4c86476663cb",
   "metadata": {},
   "outputs": [],
   "source": [
    "###############################################################################\n",
    "###############################################################################\n",
    "#                 Load the data of a single subject\n",
    "###############################################################################\n",
    "###############################################################################\n",
    "\n",
    "def load_ss(subject_nb):\n",
    "    \"\"\"Load the data of a single subject.\n",
    "    \n",
    "    Parameters\n",
    "    ----------\n",
    "    subject_nb : int\n",
    "        Subject number [0, 12]\n",
    "    \n",
    "    Returns\n",
    "    -------\n",
    "    hga : xarray.DataArray\n",
    "        Xarray containing the high-gamma activity\n",
    "    anat : pandas.DataFrame\n",
    "        Table containing the anatomical informations\n",
    "    beh : pandas.DataFrame\n",
    "        Table containing the behavioral informations\n",
    "    \"\"\"\n",
    "    # load the high-gamma activity\n",
    "    file_hga = os.path.join(ROOT, 'hga', f'hga_s-{subject_nb}.nc')\n",
    "    hga = xr.load_dataarray(file_hga)\n",
    "\n",
    "    # load the name of the brain regions\n",
    "    file_anat = os.path.join(ROOT, 'anat', f'anat_s-{subject_nb}.xlsx')\n",
    "    anat = pd.read_excel(file_anat)\n",
    "\n",
    "    # load the behavior\n",
    "    file_beh = os.path.join(ROOT, 'beh', f'beh_s-{subject_nb}.xlsx')\n",
    "    beh = pd.read_excel(file_beh)\n",
    "    \n",
    "    return hga, anat, beh\n",
    "\n",
    "\n",
    "###############################################################################\n",
    "###############################################################################\n",
    "#                 Load the data of multiple subjects\n",
    "###############################################################################\n",
    "###############################################################################\n",
    "\n",
    "def load_ms(s_range=[0, 11], model='outcome', condition='rew',\n",
    "            space='channels', mean_roi=True, prepend_suj_to_ch=True):\n",
    "    \"\"\"Load multiple subjects.\n",
    "    \n",
    "    Parameters\n",
    "    ----------\n",
    "    s_range : int or list\n",
    "        Subjects to load. Use either an integer (e.g. 7) to load a single\n",
    "        subject or a range of subjects (e.g. [5, 10])\n",
    "    model : {'outcome', 'pe', 'rt'}\n",
    "        Model to use. Use either :\n",
    "        \n",
    "            * 'outcome' : find differences in the neural activity between the\n",
    "              outcomes\n",
    "            * 'pe' : find regions with an activity correlating with the\n",
    "              prediction error\n",
    "            * 'rt' : find regions with an activity correlating with the\n",
    "              reaction time\n",
    "    condition : {'rew', 'pun', 'context', 'null'}\n",
    "        Condition to load. Use either :\n",
    "        \n",
    "            * 'rew' : for outcomes {+0€; +1€}\n",
    "            * 'pun' : for outcomes {-1€; -0€}\n",
    "            * 'context' : for outcomes {-1€; +1€}\n",
    "            * 'null' : for outcomes {-0€; +0€}\n",
    "    space : {'channels', 'roi'}\n",
    "        Specify if the spatial dimension should be described with channel names\n",
    "        or with brain region names\n",
    "    mean_roi : bool\n",
    "        Specify if you want to take the mean high-gamma activity inside a brain\n",
    "        region\n",
    "    prepend_suj_to_ch : bool\n",
    "        Add subject name to each channel name\n",
    "    \n",
    "    Returns\n",
    "    -------\n",
    "    hga : list\n",
    "        List of high-gamma activity across subjects\n",
    "    \"\"\"\n",
    "    # inputs checking\n",
    "    if isinstance(s_range, int):\n",
    "        s_range = [s_range, s_range]\n",
    "    s_range[1] += 1\n",
    "    s_range[0], s_range[1] = max(s_range[0], 0), min(s_range[1], 12)\n",
    "    mesg = f\"Subject %i | model={model} | condition={condition} | space={space}\"\n",
    "    pbar = ProgressBar(range(s_range[0], s_range[1]), mesg=mesg % 0)\n",
    "    model = model.lower()\n",
    "    assert space in ['channels', 'parcels', 'roi']\n",
    "    \n",
    "    # get the code of the condition\n",
    "    outc = {\n",
    "        'rew': (+1, +2),\n",
    "        'pun': (-2, -1),\n",
    "        'context': (-2, +2),\n",
    "        'null': (-1, +1)\n",
    "    }[condition]\n",
    "    \n",
    "    # get the behavioral column to use\n",
    "    col = {\n",
    "        'outcome': 'code',\n",
    "        'pe': 'PE',\n",
    "        'rt': 'RT'\n",
    "    }[model]\n",
    "    \n",
    "    # load the data\n",
    "    hga = []\n",
    "    for n_s in range(s_range[0], s_range[1]):\n",
    "        pbar._tqdm.desc = mesg % n_s\n",
    "        # load the data of a single subject\n",
    "        _hga, _anat, _beh = load_ss(n_s)\n",
    "        _outc = _hga['trials'].data\n",
    "        _ch = _hga['channels'].data\n",
    "        \n",
    "        # replace trial dimension with the model\n",
    "        _hga = _hga.rename(trials=model)\n",
    "        _hga[model] = list(_beh[col])\n",
    "        \n",
    "        # get which outcome to keep\n",
    "        keep_outc = np.logical_or(_outc == outc[0], _outc == outc[1])\n",
    "        _hga = _hga[keep_outc, ...]\n",
    "        \n",
    "        # replace with brain regions\n",
    "        if space in ['parcels', 'roi']:\n",
    "            _hga = _hga.rename(channels=space)\n",
    "            _hga[space] = list(_anat['roi'])\n",
    "            \n",
    "            # take the mean of the hga per parcel\n",
    "            if mean_roi:\n",
    "                _hga = _hga.groupby(space).mean(space)\n",
    "        elif prepend_suj_to_ch and (space == 'channels'):\n",
    "            # prepend subject number to channel name\n",
    "            _hga['channels'] = [f\"suj{n_s}/{c}\" for c in _ch]\n",
    "        \n",
    "        # ascontinuous array\n",
    "        _hga.data = np.ascontiguousarray(_hga.data)\n",
    "        \n",
    "        hga.append(_hga)\n",
    "        pbar.update_with_increment_value(1)\n",
    "\n",
    "    return hga"
   ]
  },
  {
   "cell_type": "markdown",
   "id": "d7aa4300-303c-4fad-adc0-a366b55bc0a3",
   "metadata": {},
   "source": [
    "# **1. Loading multi-subjects**\n",
    "## 1.1 Loading one or multiple subjects"
   ]
  },
  {
   "cell_type": "code",
   "execution_count": null,
   "id": "ae5bec3a-c1f0-417c-af81-5201a6b8315a",
   "metadata": {},
   "outputs": [],
   "source": [
    "# loading a single subject\n",
    "# load_ms(s_range=0)\n",
    "# load_ms(s_range=7)\n",
    "\n",
    "# loading multiple subjects\n",
    "# load_ms(s_range=[0, 1])\n",
    "# load_ms(s_range=[3, 6])"
   ]
  },
  {
   "cell_type": "markdown",
   "id": "f6e06cc2-6643-496d-ac7d-72e554bed877",
   "metadata": {},
   "source": [
    "## 1.2 Choosing the model\n",
    "\n",
    "- $I(continuous, discret)$\n",
    "    * `'outcomes'` = **what are the contacts / brain regions for which the brain activity is different according to the outcome?**\n",
    "- $I(continuous, continuous)$\n",
    "    * `'pe'` (_prediction error_) = **what are the contacts / brain regions that correlates with the prediction error?**\n",
    "    * `'rt'` (_reaction time_) = **what are the contacts / brain regions that correlates with the reaction time?**"
   ]
  },
  {
   "cell_type": "code",
   "execution_count": null,
   "id": "5ed52c0c-820d-4d79-b2dc-191bf366e606",
   "metadata": {},
   "outputs": [],
   "source": [
    "# seek for differences of activity between outcomes\n",
    "# hga = load_ms(s_range=[0, 3], model='outcome')\n",
    "\n",
    "# seek for correlation with the reaction time\n",
    "# hga = load_ms(s_range=[0, 3], model='rt')\n",
    "\n",
    "# seek for correlation with the prediction error\n",
    "# hga = load_ms(s_range=[0, 3], model='pe')"
   ]
  },
  {
   "cell_type": "markdown",
   "id": "7e6f0f6b-40c9-4078-94e6-2499f76908a9",
   "metadata": {},
   "source": [
    "## 1.3 Choosing the condition\n",
    "\n",
    "Here, we only select the data for a subset of possible conditions, namely :\n",
    "- **Reward condition     =** $outcomes \\in \\{\"+0€\", \"+1€\"\\}$\n",
    "- **Punishment condition =** $outcomes \\in \\{\"-1€\", \"-0€\"\\}$\n",
    "- **Context detection    =** $outcomes \\in \\{\"-1€\", \"+1€\"\\}$\n",
    "- **Null comparison      =** $outcomes \\in \\{\"-0€\", \"+0€\"\\}$\n",
    "\n",
    "Therefore, you can ask questions like :\n",
    "- **Model-free analysis** (contrasting conditions, \\~decoding)\n",
    "    - Are there differences of HGA according to the outcome during the reward of punishment conditions?\n",
    "    - What are the brain regions that can differentiate the context?\n",
    "    - Are there regions capable of finding differences between the 0€ of both conditions?\n",
    "- **Model-based analysis** (correlation with a model, \\~regression)\n",
    "- What are the brain regions correlating with the reward or punishment prediction error?\n",
    "- Are there brain regions for which the brain activity correlates with the reaction time during the reward or punishment conditions?\n",
    "\n",
    "### 1.3.1 Model-free analysis"
   ]
  },
  {
   "cell_type": "code",
   "execution_count": null,
   "id": "372cd60e-687f-4b31-b507-9bb0b6506f1d",
   "metadata": {},
   "outputs": [],
   "source": [
    "# Reward = differences of hga between outcomes (+0€; +1€)\n",
    "# hga = load_ms(s_range=[0, 3], model='outcome', condition='rew')\n",
    "\n",
    "# Punishment = differences of hga between outcomes (-1€; -0€)\n",
    "# hga = load_ms(s_range=[0, 3], model='outcome', condition='pun')\n",
    "\n",
    "# Context = differences of hga between outcomes (-1€; +1€)\n",
    "# hga = load_ms(s_range=[0, 3], model='outcome', condition='context')\n",
    "\n",
    "# Null = differences of hga between outcomes (-0€; +0€)\n",
    "# hga = load_ms(s_range=[0, 3], model='outcome', condition='null')"
   ]
  },
  {
   "cell_type": "markdown",
   "id": "7847013d-067b-42e7-9254-ec671e545441",
   "metadata": {},
   "source": [
    "### 1.3.2 Model-based analysis"
   ]
  },
  {
   "cell_type": "code",
   "execution_count": null,
   "id": "3ae0953f-ebcc-4e8a-bd21-03ab489d4cb8",
   "metadata": {},
   "outputs": [],
   "source": [
    "# brain regions correlating with the reward prediction error\n",
    "# hga = load_ms(s_range=[0, 3], model='pe', condition='rew')\n",
    "\n",
    "# brain regions correlating with the punishment prediction error\n",
    "# hga = load_ms(s_range=[0, 3], model='pe', condition='pun')\n",
    "\n",
    "# brain regions correlating with the reaction time during the reward condition\n",
    "# hga = load_ms(s_range=[0, 3], model='rt', condition='rew')\n",
    "\n",
    "# brain regions correlating with the reaction time during the punishment condition\n",
    "# hga = load_ms(s_range=[0, 3], model='rt', condition='pun')"
   ]
  },
  {
   "cell_type": "markdown",
   "id": "272d3d05-7d0f-453d-8bf1-4472ea2de6d0",
   "metadata": {},
   "source": [
    "## 1.4 Choosing the spatial scale : channels or brain regions?\n",
    "### 1.4.1 Computations at the scale of the channel / contact"
   ]
  },
  {
   "cell_type": "code",
   "execution_count": null,
   "id": "dc4d0f34-b244-4120-865e-f958b679952e",
   "metadata": {},
   "outputs": [],
   "source": [
    "# hga = load_ms(s_range=0, space='channels')"
   ]
  },
  {
   "cell_type": "markdown",
   "id": "f69b8905-fd10-41cc-a0bc-934066558aa9",
   "metadata": {},
   "source": [
    "### 1.4.1 Computations at the scale of the brain region"
   ]
  },
  {
   "cell_type": "code",
   "execution_count": null,
   "id": "5553d1b4-e84f-4a71-a603-08fbc32aa173",
   "metadata": {},
   "outputs": [],
   "source": [
    "# use the brain region names to caracterize the space\n",
    "# hga = load_ms(s_range=7, space='roi', mean_roi=False)\n",
    "\n",
    "# same, but this time we also take the mean of the hga inside each brain region\n",
    "# hga = load_ms(s_range=7, space='roi', mean_roi=True)"
   ]
  },
  {
   "cell_type": "markdown",
   "id": "6e4ddda6-cc37-41cc-9901-a2536ca25e8f",
   "metadata": {},
   "source": [
    "# **2. Measure information**\n",
    "## 2.1 $I(continuous; discret)$ = Model-free analysis"
   ]
  },
  {
   "cell_type": "code",
   "execution_count": null,
   "id": "6d7cd4ac-a373-4361-bb15-40b04f6a1e7b",
   "metadata": {},
   "outputs": [],
   "source": [
    "# load the hga, with the outcomes during the reward condition\n",
    "hga = load_ms(model='outcome', condition='rew', space='roi')\n",
    "\n",
    "# define the DatasetEphy\n",
    "ds = DatasetEphy(hga, y='outcome', roi='roi', times='times')\n",
    "\n",
    "\"\"\"\n",
    "define the type of mutual information to compute\n",
    "'cd' = I(continuous; discret)\n",
    "     = I(brain data; stimulus)\n",
    "\"\"\"\n",
    "mi_type = 'cd'\n",
    "\n",
    "# define a workflow of mutual-information\n",
    "wf = WfMi(mi_type=mi_type, inference='ffx')\n",
    "\n",
    "# run the workflow (without stat for the moment)\n",
    "mi, pv = wf.fit(ds, mcp=None)\n",
    "\n",
    "# plot the result\n",
    "plt.figure(figsize=(10, 8))\n",
    "mi.plot(x='times', hue='roi')\n",
    "plt.axvline(0., color='k')\n",
    "plt.title(r\"$I(data; \\{+0€; +1€\\})$\");"
   ]
  },
  {
   "cell_type": "markdown",
   "id": "e71e2fe0-449b-4c42-97a8-1e61794767ba",
   "metadata": {},
   "source": [
    "## 2.2 $I(continuous; continuous)$ = Model-based analysis"
   ]
  },
  {
   "cell_type": "code",
   "execution_count": null,
   "id": "fcc2048f-befe-47c5-b1f8-08ec5c1a5d3c",
   "metadata": {},
   "outputs": [],
   "source": [
    "# load the hga, with the outcomes during the reward condition\n",
    "hga = load_ms(model='pe', condition='rew', space='roi')\n",
    "\n",
    "# define the DatasetEphy\n",
    "ds = DatasetEphy(hga, y='pe', roi='roi', times='times')\n",
    "\n",
    "\"\"\"\n",
    "define the type of mutual information to compute\n",
    "'cc' = I(continuous; continuous)\n",
    "     = I(brain data; PE)\n",
    "\"\"\"\n",
    "mi_type = 'cc'\n",
    "\n",
    "# define a workflow of mutual-information\n",
    "wf = WfMi(mi_type=mi_type, inference='ffx')\n",
    "\n",
    "# run the workflow (without stat for the moment)\n",
    "mi, pv = wf.fit(ds, mcp=None)\n",
    "\n",
    "# plot the result\n",
    "plt.figure(figsize=(10, 8))\n",
    "mi.plot(x='times', hue='roi')\n",
    "plt.axvline(0., color='k')\n",
    "plt.title(r\"$I(data; RPE)$\");"
   ]
  },
  {
   "cell_type": "markdown",
   "id": "7ee3e33d-49ba-4cd5-819b-8ad293436ec9",
   "metadata": {},
   "source": [
    "# **3. How to handle the spatial dimension?**\n",
    "\n",
    "<div class=\"alert alert-info\"><p>\n",
    "\n",
    "**THIS IS A VERY IMPORTANT SECTION !**\n",
    "</p></div>\n",
    "\n",
    "Inside a brain region, there's multiple sEEG contacts. A natural question is **how to handle all of those contacts and avoid loosing the very specific and precious information they contained?**\n",
    "\n",
    "You've several strategies :\n",
    "1. You can average the activity within a brain region (as we did above)\n",
    "2. You can try to find significant activations at the contact level, for each subject\n",
    "3. You can concatenate the activity across contacts inside a brain region\n",
    "4. You can use more elaborated statistics to model how the information is distributed across contacts inside a brain region (Random-Effect at the contact level)\n",
    "\n",
    "It's hard to recommand a single method, because, as always, it's data dependent. However, as a rule of thumb, I would advise avoiding meaning the activity **before estimating the information** as much as possible. It's probably better to extract the information at the single-contact level."
   ]
  },
  {
   "cell_type": "markdown",
   "id": "91fd6b6e-eb23-4562-860a-69169a01a38a",
   "metadata": {},
   "source": [
    "## 3.1 Extract the information on the mean activity inside a brain region"
   ]
  },
  {
   "cell_type": "code",
   "execution_count": null,
   "id": "05d9ee7f-6fb1-49a7-9898-050df5b9325e",
   "metadata": {},
   "outputs": [],
   "source": [
    "# load data and build the DatasetEphy\n",
    "hga = load_ms(s_range=[0, 3], model='pe', condition='rew', space='roi',\n",
    "              mean_roi=True)\n",
    "ds = DatasetEphy(hga, y='pe', roi='roi', times='times')\n",
    "\n",
    "# measure information\n",
    "mi, _ = WfMi(mi_type='cc', inference='ffx').fit(ds, mcp=None)\n",
    "\n",
    "# plot the result\n",
    "plt.figure(figsize=(10, 8))\n",
    "mi.plot(x='times', hue='roi')\n",
    "plt.axvline(0., color='k')\n",
    "plt.title(\"Information on mean activity\");\n",
    "\n",
    "ds"
   ]
  },
  {
   "cell_type": "markdown",
   "id": "8ecf8cdf-7da6-4526-9e07-df7cfcd22f24",
   "metadata": {},
   "source": [
    "## 3.2 Extract the information at the single-contact level\n",
    "### 3.2.1 For a single subject"
   ]
  },
  {
   "cell_type": "code",
   "execution_count": null,
   "id": "83a34e94-478d-4696-a6b0-27fe25bf3543",
   "metadata": {},
   "outputs": [],
   "source": [
    "# load data and build the DatasetEphy\n",
    "hga = load_ms(s_range=5, model='pe', condition='rew', space='channels')\n",
    "ds = DatasetEphy(hga, y='pe', roi='channels', times='times')\n",
    "\n",
    "# measure information\n",
    "mi, _ = WfMi(mi_type='cc', inference='ffx').fit(ds, mcp=None)\n",
    "\n",
    "# plot the result\n",
    "plt.figure(figsize=(10, 8))\n",
    "mi.plot(x='times', hue='roi')\n",
    "plt.axvline(0., color='k')\n",
    "plt.title(\"Information at the single contact level\");\n",
    "\n",
    "ds"
   ]
  },
  {
   "cell_type": "markdown",
   "id": "80d48786-055b-4153-b500-66a9b975715c",
   "metadata": {},
   "source": [
    "### 3.2.2 For multiple subjects"
   ]
  },
  {
   "cell_type": "code",
   "execution_count": null,
   "id": "666e725e-b64e-456a-9fdc-77ce951db735",
   "metadata": {},
   "outputs": [],
   "source": [
    "# load data and build the DatasetEphy\n",
    "hga = load_ms(s_range=[3, 5], model='pe', condition='rew', space='channels')\n",
    "ds = DatasetEphy(hga, y='pe', roi='channels', times='times')\n",
    "\n",
    "# measure information\n",
    "mi, _ = WfMi(mi_type='cc', inference='ffx').fit(ds, mcp=None)\n",
    "\n",
    "# plot the result\n",
    "plt.figure(figsize=(10, 8))\n",
    "mi.plot(x='times', hue='roi')\n",
    "plt.axvline(0., color='k')\n",
    "plt.title(\"Information at the single contact level\");\n",
    "\n",
    "ds"
   ]
  },
  {
   "cell_type": "markdown",
   "id": "2fb4fcc5-0200-4556-aa43-3b2cf10612a7",
   "metadata": {},
   "source": [
    "## 3.3 Concatenate the activity across contacts"
   ]
  },
  {
   "cell_type": "code",
   "execution_count": null,
   "id": "9a91eff4-75b6-404b-bc9b-570c759ae185",
   "metadata": {},
   "outputs": [],
   "source": [
    "# load data and build the DatasetEphy\n",
    "hga = load_ms(s_range=5, model='pe', condition='rew', space='roi', mean_roi=False)\n",
    "ds = DatasetEphy(hga, y='pe', roi='roi', times='times')\n",
    "\n",
    "# measure information\n",
    "mi, _ = WfMi(mi_type='cc', inference='ffx').fit(ds, mcp=None)\n",
    "\n",
    "# plot the result\n",
    "plt.figure(figsize=(10, 8))\n",
    "mi.plot(x='times', hue='roi')\n",
    "plt.axvline(0., color='k')\n",
    "plt.title(\"Concatenate activity across contacts\");\n",
    "\n",
    "ds"
   ]
  },
  {
   "cell_type": "markdown",
   "id": "4fffe490-467f-4860-a570-492efdc97961",
   "metadata": {},
   "source": [
    "---\n",
    "# **4. Use alternative estimators of information** (Bonus)\n",
    "\n",
    "To estimate the quantity of information shared between the brain data and an external variable, Frites uses by default metrics from the information-theory (i.e. _Gaussian Copula Mutual Information (GCMI)_). The GCMI is a good estimator because it's fast, it can detect many types of relations and it's relatively robust to the presence of noise in the data. However, more powerfull estimators exist, such as in the field of machine learning. Frites allows to provide custom estimators and also include some basic ones (like correlation).\n",
    "\n",
    "## 4.1 Define a custom estimator\n",
    "\n",
    "In this part, we define an estimator for computing the correlation between two continuous variables"
   ]
  },
  {
   "cell_type": "code",
   "execution_count": null,
   "id": "f54363d4-b7a7-41b9-ae11-b763a10dc0b2",
   "metadata": {},
   "outputs": [],
   "source": [
    "from frites.estimator import CustomEstimator\n",
    "\n",
    "# function for computing \n",
    "def correlation(x, y):\n",
    "    \"\"\"Compute the correlation between two variables.\n",
    "    \"\"\"\n",
    "    n_var, n_mv, n_samples = x.shape\n",
    "    corr = np.zeros((n_var,))\n",
    "    for k in range(n_var):\n",
    "        corr[k] = np.corrcoef(x[k, ...], y[k, ...])[0, 1]\n",
    "    return corr\n",
    "\n",
    "# define you custom \n",
    "est = CustomEstimator('custom_correlation', 'cc', correlation,\n",
    "                      multivariate=False)"
   ]
  },
  {
   "cell_type": "markdown",
   "id": "027f6737-f0a9-4559-9780-e9a786ab4e47",
   "metadata": {},
   "source": [
    "## 4.2 Use this custom estimator"
   ]
  },
  {
   "cell_type": "code",
   "execution_count": null,
   "id": "a70775f9-6665-4140-8458-cb7ad12ed60d",
   "metadata": {},
   "outputs": [],
   "source": [
    "# load data and build the DatasetEphy\n",
    "hga = load_ms(model='pe', condition='rew', space='roi')\n",
    "ds = DatasetEphy(hga, y='pe', roi='roi', times='times')\n",
    "\n",
    "# measure information\n",
    "mi, _ = WfMi(mi_type='cc', estimator=est).fit(ds, mcp=None)\n",
    "\n",
    "# plot the result\n",
    "plt.figure(figsize=(10, 8))\n",
    "mi.plot(x='times', hue='roi')\n",
    "plt.axvline(0., color='k')\n",
    "plt.title(r\"$Correlation(HGA; RPE)$\");\n"
   ]
  },
  {
   "cell_type": "markdown",
   "id": "0da0c9de-01fb-496e-9df9-465a8f5d0bd3",
   "metadata": {},
   "source": [
    "---\n",
    "# **---- Test yourself ! ----**\n",
    "## **1. Data loading**\n",
    "### 1.1 Load the data of a single subject\n",
    "\n",
    "<div class=\"alert alert-warning\"><p>\n",
    "\n",
    "**[Instructions]**\n",
    "\n",
    "Load the data of :\n",
    "- Subject 6 only (`s_range`)\n",
    "- During the reward condition (`condition`)\n",
    "- For the task-related variable, use the outcome (`model`)\n",
    "- The spatial dimension should be described with channel names (`space`)\n",
    "</p></div>"
   ]
  },
  {
   "cell_type": "code",
   "execution_count": null,
   "id": "9d805616-f5ce-452a-909b-b6e3b53860d1",
   "metadata": {},
   "outputs": [],
   "source": [
    "# write your answer"
   ]
  },
  {
   "cell_type": "markdown",
   "id": "b9ff7ce7-07f8-4889-9648-832c22d7b7e4",
   "metadata": {},
   "source": [
    "### 1.2 Load the data of a multiple subjects\n",
    "\n",
    "<div class=\"alert alert-warning\"><p>\n",
    "\n",
    "**[Instructions]**\n",
    "\n",
    "Same but for subjects between [6, 10]\n",
    "</p></div>"
   ]
  },
  {
   "cell_type": "code",
   "execution_count": null,
   "id": "db36f3a0-b8ec-41d4-bf34-e245bffb990a",
   "metadata": {},
   "outputs": [],
   "source": [
    "# write your answer"
   ]
  },
  {
   "cell_type": "markdown",
   "id": "efb049c3-1452-46fa-a86d-897e62812c70",
   "metadata": {},
   "source": [
    "### 1.3 Switch condition and model\n",
    "\n",
    "<div class=\"alert alert-warning\"><p>\n",
    "\n",
    "**[Instructions]**\n",
    "\n",
    "Load the data of :\n",
    "- Subject 6 only\n",
    "- For the model and condition, use the Punishment Prediction Error\n",
    "- The spatial dimension should be described with brain region names\n",
    "</p></div>"
   ]
  },
  {
   "cell_type": "code",
   "execution_count": null,
   "id": "d27354da-7efe-4262-a2df-c662136b9301",
   "metadata": {},
   "outputs": [],
   "source": [
    "# write your answer"
   ]
  },
  {
   "cell_type": "markdown",
   "id": "72e04883-117b-4a29-b726-49b1e9a2d899",
   "metadata": {},
   "source": [
    "---\n",
    "## **2. Measuring information**\n",
    "### 2.1 Model-free analysis for a single subject\n",
    "\n",
    "<div class=\"alert alert-warning\"><p>\n",
    "\n",
    "**[Instructions]**\n",
    "\n",
    "On **subject 6**, what is the **channel** name that share the maximum of information between **outcomes** during the **reward** condition?\n",
    "</p></div>"
   ]
  },
  {
   "cell_type": "code",
   "execution_count": null,
   "id": "27310e23-c896-431f-939b-8497cf68376e",
   "metadata": {},
   "outputs": [],
   "source": [
    "# write your answer"
   ]
  },
  {
   "cell_type": "markdown",
   "id": "52ee5afe-49c2-4e4e-9667-a117a0b99dc6",
   "metadata": {},
   "source": [
    "### 2.2 Model-free analysis across all of the subjects\n",
    "\n",
    "<div class=\"alert alert-warning\"><p>\n",
    "\n",
    "**[Instructions]**\n",
    "\n",
    "Across all of the subjects, what is the name of the **brain region** that seems to better differentiate the **outcomes** during different **contexts**? (i.e. `condition='context'`)\n",
    "</p></div>"
   ]
  },
  {
   "cell_type": "code",
   "execution_count": null,
   "id": "d70e51f0-e8f0-4a2c-b799-248e34f5109d",
   "metadata": {},
   "outputs": [],
   "source": [
    "# write your answer"
   ]
  },
  {
   "cell_type": "markdown",
   "id": "b3a77523-273c-4abb-b79c-cef246f1833d",
   "metadata": {},
   "source": [
    "### 2.3 Model-based analysis for a single subject\n",
    "\n",
    "<div class=\"alert alert-warning\"><p>\n",
    "\n",
    "**[Instructions]**\n",
    "\n",
    "For subject 6, what is the name of the **channel** sharing the most information with the **reaction time** (`model='rt'`) during the **reward** condition?\n",
    "</p></div>"
   ]
  },
  {
   "cell_type": "code",
   "execution_count": null,
   "id": "cd514318-beba-44f3-8611-97a3d70556b8",
   "metadata": {},
   "outputs": [],
   "source": [
    "# write your answer"
   ]
  },
  {
   "cell_type": "markdown",
   "id": "83f7e61e-678b-46cd-ba50-72be05667bc6",
   "metadata": {},
   "source": [
    "### 2.4 Model-based analysis for multiple subjects\n",
    "\n",
    "<div class=\"alert alert-warning\"><p>\n",
    "\n",
    "**[Instructions]**\n",
    "\n",
    "Across all of the subjects, what is the name of the **brain region** sharing the most information with the **punishment** (`condition`) **prediction error** (`model`)?\n",
    "</p></div>"
   ]
  },
  {
   "cell_type": "code",
   "execution_count": null,
   "id": "45f7aef8-539a-41df-925d-5ae46507f324",
   "metadata": {},
   "outputs": [],
   "source": [
    "# write your answer"
   ]
  },
  {
   "cell_type": "markdown",
   "id": "567d8100-b7d8-42a2-9943-359c3fbd4fe0",
   "metadata": {},
   "source": [
    "### 2.5 Avoid taking the mean of neural activity\n",
    "\n",
    "If you didn't change anything, the function that load multiple subjects takes the mean of the high-gamma activity per brain region (`space='roi'`). As  said before, this might not be the best way to take full benefit of the information contained at the single-contact level. In this last exercise, we are going to avoid this behavior by concatenating the activity across contacts withing a brain region.\n",
    "\n",
    "<div class=\"alert alert-warning\"><p>\n",
    "\n",
    "**[Instructions]**\n",
    "\n",
    "Across **all of the subjects**, what is the name of the **brain region** that share the maximum amount of information with the **reaction time** during the reward condition? And off course, without taking the mean of HGA within region (`mean_roi=False`) !\n",
    "\n",
    "</p></div>"
   ]
  },
  {
   "cell_type": "code",
   "execution_count": null,
   "id": "72a8031b-8e98-4e3e-966f-515a03bfb061",
   "metadata": {},
   "outputs": [],
   "source": [
    "# write your answer"
   ]
  }
 ],
 "metadata": {
  "kernelspec": {
   "display_name": "Python 3",
   "language": "python",
   "name": "python3"
  },
  "language_info": {
   "codemirror_mode": {
    "name": "ipython",
    "version": 3
   },
   "file_extension": ".py",
   "mimetype": "text/x-python",
   "name": "python",
   "nbconvert_exporter": "python",
   "pygments_lexer": "ipython3",
   "version": "3.7.8"
  }
 },
 "nbformat": 4,
 "nbformat_minor": 5
}
