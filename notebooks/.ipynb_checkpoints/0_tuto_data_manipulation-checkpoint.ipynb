{
 "cells": [
  {
   "cell_type": "markdown",
   "id": "44415718-09f7-4415-93b1-424111e842b0",
   "metadata": {
    "tags": []
   },
   "source": [
    "# **--- Data manipulation with Xarray ---**\n",
    "---\n",
    "\n",
    "In this tutorial we're going to learn how to manipulate neurophysiological data using Xarray. In details :\n",
    "- Data transformation (NumPy to Xarray and conversaly)\n",
    "- Data selection (time, space, multi-indexing etc.)\n",
    "- Save and load the data\n",
    "- Data plotting\n",
    "\n",
    "<div class=\"alert alert-success\"><p>\n",
    "\n",
    "Link to Xarray [documentation](http://xarray.pydata.org/en/stable/index.html)\n",
    "</p></div>"
   ]
  },
  {
   "cell_type": "code",
   "execution_count": null,
   "id": "f4cbf12d-acc8-4067-bf86-b8adeea3c70e",
   "metadata": {},
   "outputs": [],
   "source": [
    "import os\n",
    "\n",
    "import numpy as np\n",
    "import xarray as xr\n",
    "import pandas as pd\n",
    "\n",
    "import matplotlib.pyplot as plt"
   ]
  },
  {
   "cell_type": "markdown",
   "id": "5acded3f-22a8-4d38-bf5d-3aeefbfea926",
   "metadata": {},
   "source": [
    "---\n",
    "# **--- ROOT PATH ---**\n",
    "\n",
    "<div class=\"alert alert-info\"><p>\n",
    "\n",
    "Define the path to where the data are located !\n",
    "</p></div>"
   ]
  },
  {
   "cell_type": "code",
   "execution_count": null,
   "id": "23dd1a5d-f6e2-40fc-81c7-c23bfa3669be",
   "metadata": {},
   "outputs": [],
   "source": [
    "ROOT = '/run/media/etienne/DATA/Toolbox/BraiNets/CookingFrites/dataset/'"
   ]
  },
  {
   "cell_type": "markdown",
   "id": "fa33e45d-e6a6-4a8c-bf13-e374a6d5e266",
   "metadata": {},
   "source": [
    "---\n",
    "# **1 - Data transformation**"
   ]
  },
  {
   "cell_type": "markdown",
   "id": "e1842a91-a1ba-48d0-83cf-8fa9893c4ee6",
   "metadata": {},
   "source": [
    "## 1.1 From NumPy array to Xarray"
   ]
  },
  {
   "cell_type": "code",
   "execution_count": null,
   "id": "88825898-7e3c-43ec-9796-194eed13c56e",
   "metadata": {},
   "outputs": [],
   "source": [
    "# properties for the simulated data\n",
    "n_trials = 10\n",
    "n_channels = 5\n",
    "n_times = 500\n",
    "\n",
    "# generate coordinates\n",
    "conditions = ['Stimulus 0'] * 5 + ['Stimulus 1'] * 5\n",
    "channels = [f\"ch_{k}\" for k in range(n_channels)]\n",
    "times = (np.arange(n_times) - 100) / 256.\n",
    "\n",
    "# create the (random) data\n",
    "data_np = np.random.rand(n_trials, n_channels, n_times)\n",
    "\n",
    "# create the DataArray\n",
    "data_xr = xr.DataArray(\n",
    "    data_np, dims=('conditions', 'channels', 'times'),\n",
    "    coords=(conditions, channels, times)\n",
    ")\n",
    "\n",
    "# data_xr"
   ]
  },
  {
   "cell_type": "markdown",
   "id": "923540e3-6210-4a84-a3d2-5edc74478f07",
   "metadata": {},
   "source": [
    "## 1.2 From Xarray to NumPy array"
   ]
  },
  {
   "cell_type": "code",
   "execution_count": null,
   "id": "ceca4985-4cbe-4c9c-b267-af460cda2fad",
   "metadata": {},
   "outputs": [],
   "source": [
    "# data_xr.data  # that's it"
   ]
  },
  {
   "cell_type": "markdown",
   "id": "7b84b2c6-81de-45e3-b768-0bd03ef641b0",
   "metadata": {},
   "source": [
    "## 1.3 Get coordinates"
   ]
  },
  {
   "cell_type": "code",
   "execution_count": null,
   "id": "ea3586c8-d8c5-400f-ae90-dfb7c41a63ce",
   "metadata": {},
   "outputs": [],
   "source": [
    "# data_xr['times']  # or data_xr['times'].data\n",
    "# data_xr['channels']\n",
    "# data_xr['conditions']"
   ]
  },
  {
   "cell_type": "markdown",
   "id": "7ec25b4d-7040-428b-bec1-950428cdb9d2",
   "metadata": {},
   "source": [
    "## 1.4 Add attributes, name etc."
   ]
  },
  {
   "cell_type": "code",
   "execution_count": null,
   "id": "fafb58b2-05dc-4a58-be41-40656c9bf80a",
   "metadata": {},
   "outputs": [],
   "source": [
    "data_xr.name = 'GDR tuto'\n",
    "data_xr.attrs = {\n",
    "    \"sampling frequency\": 512.,\n",
    "    \"subject\": 0,\n",
    "    \"info\": \"subject was distracted at sample 1s\"\n",
    "}\n",
    "# data_xr"
   ]
  },
  {
   "cell_type": "markdown",
   "id": "fcc56fbe-c9cc-4812-9f3a-d2a3674b0c7a",
   "metadata": {},
   "source": [
    "## 1.4 Dataset creation (Bonus)"
   ]
  },
  {
   "cell_type": "code",
   "execution_count": null,
   "id": "f559712a-05f2-42bf-a4ca-b29f2d0987df",
   "metadata": {},
   "outputs": [],
   "source": [
    "n_subjects = 5\n",
    "\n",
    "dt = {}\n",
    "for n_s in range(n_subjects):\n",
    "    # create a random xarray the same way as before\n",
    "    data_s = xr.DataArray(\n",
    "        np.random.rand(n_trials, n_channels, n_times),\n",
    "        dims=('conditions', 'channels', 'times'),\n",
    "        coords=(conditions, channels, times),\n",
    "        name=f\"HGA-{n_s}\"\n",
    "    )\n",
    "    \n",
    "    # fill a dictionary\n",
    "    dt[f\"subject-{n_s}\"] = data_s\n",
    "\n",
    "# dataset creation\n",
    "dt = xr.Dataset(dt)\n",
    "# dt"
   ]
  },
  {
   "cell_type": "markdown",
   "id": "41b42f91-3ec0-4ca8-ad15-7864c31be1dc",
   "metadata": {},
   "source": [
    "---\n",
    "# **2 - Saving and loading**"
   ]
  },
  {
   "cell_type": "markdown",
   "id": "1d0e4550-623f-4d65-9a2e-14ce1d21a317",
   "metadata": {},
   "source": [
    "## 2.1 Saving a `DataArray`"
   ]
  },
  {
   "cell_type": "code",
   "execution_count": null,
   "id": "5d6f47d1-a89f-4c82-903b-0e015dbdc64d",
   "metadata": {},
   "outputs": [],
   "source": [
    "# nothing hard here !\n",
    "# data_xr.to_netcdf(\"save_dataarray.nc\")"
   ]
  },
  {
   "cell_type": "markdown",
   "id": "5c83e2c4-dff8-4900-a14d-42aee0a23932",
   "metadata": {},
   "source": [
    "## 2.2 Loading a `DataArray`"
   ]
  },
  {
   "cell_type": "code",
   "execution_count": null,
   "id": "aefa0254-51dc-42de-9761-04021a58c1f1",
   "metadata": {},
   "outputs": [],
   "source": [
    "# not much harder\n",
    "# xr.load_dataarray(\"save_dataarray.nc\")"
   ]
  },
  {
   "cell_type": "markdown",
   "id": "2d8fe92b-027e-4664-b444-a5c1bef5a36d",
   "metadata": {},
   "source": [
    "## 2.3 Saving and loading a `Dataset`"
   ]
  },
  {
   "cell_type": "code",
   "execution_count": null,
   "id": "86909e59-6487-4e13-91ed-4ac3b089266d",
   "metadata": {},
   "outputs": [],
   "source": [
    "# saving : \"this is how we do it\"\n",
    "# dt.to_netcdf(\"my_dataset.nc\")\n",
    "\n",
    "# loading : \"this is how we do it\"\n",
    "# xr.load_dataset(\"my_dataset.nc\")"
   ]
  },
  {
   "cell_type": "markdown",
   "id": "e4a05652-8817-4df2-a359-2d83273bde32",
   "metadata": {
    "tags": []
   },
   "source": [
    "---\n",
    "# **3 - Data selection**\n",
    "\n",
    "<div class=\"alert alert-success\"><p>\n",
    "\n",
    "Full tutorial here : [Indexing and selecting](http://xarray.pydata.org/en/stable/user-guide/indexing.html)\n",
    "</p></div>\n"
   ]
  },
  {
   "cell_type": "markdown",
   "id": "9fcc62c9-46cd-4ad8-90c8-3ffff042e67e",
   "metadata": {},
   "source": [
    "## 3.1 Load the data of a single subject"
   ]
  },
  {
   "cell_type": "code",
   "execution_count": null,
   "id": "1d8948d1-e7ec-431f-ac5e-bcb0686c8876",
   "metadata": {},
   "outputs": [],
   "source": [
    "###############################################################################\n",
    "subject_nb = 2\n",
    "###############################################################################\n",
    "\n",
    "# load the high-gamma activity\n",
    "file_hga = os.path.join(ROOT, 'hga', f'hga_s-{subject_nb}.nc')\n",
    "hga = xr.load_dataarray(file_hga)\n",
    "\n",
    "# load the name of the brain regions\n",
    "file_anat = os.path.join(ROOT, 'anat', f'anat_s-{subject_nb}.xlsx')\n",
    "anat = pd.read_excel(file_anat)\n",
    "\n",
    "# load the behavior\n",
    "file_beh = os.path.join(ROOT, 'beh', f'beh_s-{subject_nb}.xlsx')\n",
    "beh = pd.read_excel(file_beh)\n",
    "hga['trials'] = list(beh['valence'])\n",
    "\n",
    "# hga\n",
    "# anat\n",
    "# beh"
   ]
  },
  {
   "cell_type": "markdown",
   "id": "9c104b9f-11d7-4fc5-bbb6-30976dcf8453",
   "metadata": {},
   "source": [
    "## 3.1 Temporal selection"
   ]
  },
  {
   "cell_type": "code",
   "execution_count": null,
   "id": "e4175558-ed74-422e-9a60-902649b7e710",
   "metadata": {},
   "outputs": [],
   "source": [
    "# select a temporal section\n",
    "# hga.sel(times=slice(0., 1.))\n",
    "\n",
    "# select the data at a specific time point\n",
    "# hga.sel(times=0.)\n",
    "\n",
    "# select the data at a specific time point (oups)\n",
    "# hga.sel(times=0.1)  # method='nearest'"
   ]
  },
  {
   "cell_type": "markdown",
   "id": "b40ed47a-b67d-468b-817b-50db175e93b0",
   "metadata": {},
   "source": [
    "## 3.2 Spatial selection"
   ]
  },
  {
   "cell_type": "code",
   "execution_count": null,
   "id": "184b121d-0abe-46dd-b86e-9651e6e90bc4",
   "metadata": {},
   "outputs": [],
   "source": [
    "# select the data coming from a single channel\n",
    "# hga.sel(channels='O4-O3')\n",
    "\n",
    "# select the data coming from multiple channels\n",
    "# hga.sel(channels=['O4-O3', \"F'8-F'7\"])"
   ]
  },
  {
   "cell_type": "markdown",
   "id": "a1000376-9013-4f4f-bdfb-3378d73072ad",
   "metadata": {},
   "source": [
    "## 3.3 Select condition"
   ]
  },
  {
   "cell_type": "code",
   "execution_count": null,
   "id": "77fd22c0-c9a9-4b9d-9dfd-49aabc312ba1",
   "metadata": {},
   "outputs": [],
   "source": [
    "# select the trials leading to a \"-1€\" outcome\n",
    "# hga.sel(trials='-1€')\n",
    "\n",
    "# select the trials leading to a \"-1€\" and \"+1€\" outcome\n",
    "# hga.sel(trials=['-1€', '+1€'])  # oups\n",
    "\n",
    "# patch\n",
    "# outcomes = hga['trials'].data\n",
    "# is_1 = np.logical_or(outcomes == '-1€', outcomes == '+1€')\n",
    "# hga.sel(trials=is_1)"
   ]
  },
  {
   "cell_type": "markdown",
   "id": "a745db94-904a-49ef-b5d9-36b5c5ca2e1b",
   "metadata": {},
   "source": [
    "## 3.4 Multi-selection"
   ]
  },
  {
   "cell_type": "code",
   "execution_count": null,
   "id": "17a394ba-8989-43c2-9a55-1c76304bec09",
   "metadata": {},
   "outputs": [],
   "source": [
    "# hga.sel(\n",
    "#     times=slice(0., 1.),\n",
    "#     channels=['O4-O3', \"F'8-F'7\"],\n",
    "#     trials='-1€'\n",
    "# )"
   ]
  },
  {
   "cell_type": "markdown",
   "id": "9686ff07-d463-40b4-a614-fab43802f483",
   "metadata": {},
   "source": [
    "## 3.5 Multi-indexing (advanced)\n",
    "### 3.5.1 Define the multi-index"
   ]
  },
  {
   "cell_type": "code",
   "execution_count": null,
   "id": "d51ca3ae-c4b1-43a3-b413-6401f83ec3ea",
   "metadata": {},
   "outputs": [],
   "source": [
    "# let's start by making a copy of the hga\n",
    "hga_c = hga.copy()\n",
    "\n",
    "# get contact names and brain region names\n",
    "contacts = hga_c['channels'].data\n",
    "parcels = list(anat['roi'])\n",
    "\n",
    "# rename the spatial dimension of the hga\n",
    "hga_c = hga_c.rename(channels='spatial')\n",
    "\n",
    "# build the multi-index\n",
    "midx = pd.MultiIndex.from_arrays(\n",
    "    (contacts, parcels), names=('channels', 'roi')\n",
    ")\n",
    "# midx\n",
    "\n",
    "# replace in the spatial dimension\n",
    "hga_c['spatial'] = midx\n",
    "# hga_c"
   ]
  },
  {
   "cell_type": "markdown",
   "id": "794f11b0-2561-4bcc-a5c6-b6a62512732b",
   "metadata": {},
   "source": [
    "### Data selection using multi-indexing"
   ]
  },
  {
   "cell_type": "code",
   "execution_count": null,
   "id": "f5677e28-6786-489e-8b70-d0eee1c61100",
   "metadata": {},
   "outputs": [],
   "source": [
    "# select all the contacts in the dlPFC\n",
    "# hga_c.sel(roi='dlPFC')"
   ]
  },
  {
   "cell_type": "markdown",
   "id": "780a2f5d-e7da-4e7c-b47b-3d0d7404a499",
   "metadata": {},
   "source": [
    "---\n",
    "# **4 - Operations on Xarray**"
   ]
  },
  {
   "cell_type": "markdown",
   "id": "00921cab-a521-46a8-8fbd-593c0706cde0",
   "metadata": {},
   "source": [
    "## 4.1 Classical _min_, _max_ and _mean_"
   ]
  },
  {
   "cell_type": "code",
   "execution_count": null,
   "id": "8f2586cf-2e5d-4efd-bbef-28ec4389e76c",
   "metadata": {},
   "outputs": [],
   "source": [
    "# compute the mean of the hga across channels\n",
    "# hga.mean('channels')\n",
    "\n",
    "# compute the mean of the hga across channels and trials !\n",
    "# hga_m = hga.mean(['channels', 'trials'])\n",
    "# hga_m\n",
    "\n",
    "# on this mean, get the minimum value of hga across all time points\n",
    "# hga_m.min('times')\n",
    "\n",
    "# on this mean, get the maximum value of the hga between [0, 1] seconds\n",
    "# hga_m.sel(times=slice(0., 1.)).max('times')"
   ]
  },
  {
   "cell_type": "markdown",
   "id": "26470d7c-2212-433a-b100-22379781558b",
   "metadata": {},
   "source": [
    "## 4.2 The `groupby` miracle"
   ]
  },
  {
   "cell_type": "code",
   "execution_count": null,
   "id": "38d03091-7586-4ccb-9370-ec6e884acb42",
   "metadata": {},
   "outputs": [],
   "source": [
    "# group by condition type and take the mean hga\n",
    "# hga.groupby('trials').mean('trials')\n",
    "\n",
    "# same, but also group by brain region !\n",
    "# hga_c = hga.copy().rename(channels='parcels')\n",
    "# hga_c['parcels'] = parcels\n",
    "# hga_c.groupby('trials').mean('trials').groupby('parcels').mean('parcels')"
   ]
  },
  {
   "cell_type": "markdown",
   "id": "3ef4b284-61fa-4df2-b8b0-582d3a5dd32f",
   "metadata": {},
   "source": [
    "---\n",
    "# **5 - Data plotting**"
   ]
  },
  {
   "cell_type": "markdown",
   "id": "a0231d42-f869-4cbe-ad42-fbb540cacda1",
   "metadata": {},
   "source": [
    "## 5.1 Simple lineplot"
   ]
  },
  {
   "cell_type": "code",
   "execution_count": null,
   "id": "b9ab6a19-2a1d-41e3-a0c3-6691a91fcc9c",
   "metadata": {},
   "outputs": [],
   "source": [
    "# plot the first trial of the first channel\n",
    "# hga.isel(trials=0, channels=0).plot(x='times');\n",
    "\n",
    "# plot the mean over channels and trials\n",
    "# hga.mean(['trials', 'channels']).plot(x='times');"
   ]
  },
  {
   "cell_type": "markdown",
   "id": "b577c526-0bc9-41c3-a9d2-61129a8d285c",
   "metadata": {},
   "source": [
    "## 5.2 Combining _groupby_ and _plot_"
   ]
  },
  {
   "cell_type": "code",
   "execution_count": null,
   "id": "a4f1e118-283d-496f-849a-2ddd812890af",
   "metadata": {},
   "outputs": [],
   "source": [
    "# plot the hga per outcome of the first contact\n",
    "# hga.isel(channels=0).groupby('trials').mean('trials').plot(x='times', hue='trials');\n",
    "\n",
    "# plot the mean hga per outcome and per brain region\n",
    "# hga_c = hga.copy().rename(channels='parcels')\n",
    "# hga_c['parcels'] = parcels\n",
    "# hga_m = hga_c.groupby('trials').mean('trials').groupby('parcels').mean('parcels')\n",
    "# hga_m.plot(x='times', hue='trials', col='parcels')  # , col_wrap=2"
   ]
  },
  {
   "cell_type": "markdown",
   "id": "243b2dfe-1a34-4b60-aec4-b349539cb187",
   "metadata": {},
   "source": [
    "## 5.3 Heatmap (bonus)"
   ]
  },
  {
   "cell_type": "code",
   "execution_count": null,
   "id": "63fcae0c-ec55-480b-8f7c-489b3b76fb2e",
   "metadata": {},
   "outputs": [],
   "source": [
    "# plot the single trial activity of the first channel\n",
    "# hga_c = hga.copy()\n",
    "# hga_c['trials'] = np.arange(len(hga_c['trials']))\n",
    "# hga_c.isel(channels=0).plot(x='times', y='trials', vmin=-10, vmax=10, cmap='RdBu_r')\n",
    "# plt.axvline(0., color='black')\n",
    "\n",
    "# same, but on the mean inside the dlPFC\n",
    "# hga_c = hga.copy().rename(channels='parcels')\n",
    "# hga_c['parcels'] = parcels\n",
    "# hga_c = hga_c.groupby('parcels').mean('parcels')\n",
    "# hga_c['trials'] = np.arange(len(hga_c['trials']))\n",
    "# hga_c.sel(parcels='dlPFC').plot(x='times', y='trials', vmin=-5, vmax=5, cmap='RdBu_r')\n",
    "# plt.axvline(0., color='black')"
   ]
  },
  {
   "cell_type": "markdown",
   "id": "1995704c-7345-40f1-8310-038f274b5e43",
   "metadata": {},
   "source": [
    "---\n",
    "# **---- Test yourself ! ----**"
   ]
  },
  {
   "cell_type": "markdown",
   "id": "034d76e1-f2ef-4b93-a440-d2044b6ea356",
   "metadata": {},
   "source": [
    "## **1. Load fresh data !**\n",
    "\n",
    "<div class=\"alert alert-warning\"><p>\n",
    "\n",
    "**[Instructions]** Load the data, behavior and anatomy of subject #7\n",
    "</p></div>"
   ]
  },
  {
   "cell_type": "code",
   "execution_count": null,
   "id": "96641619-744e-40aa-947d-78b65bad0859",
   "metadata": {},
   "outputs": [],
   "source": [
    "# write your answer"
   ]
  },
  {
   "cell_type": "markdown",
   "id": "c58cdea4-a333-4a7d-9d12-1a6dc8240432",
   "metadata": {},
   "source": [
    "## **2. Data manipulation**\n",
    "\n",
    "### 2.1 Multi-items selection\n",
    "\n",
    "<div class=\"alert alert-warning\"><p>\n",
    "\n",
    "**[Instructions]**\n",
    "\n",
    "Select the high-gamma activity when the subject received an outcome `+0€` for the channel `\"Q'2-Q'1\"` and select only the time points between `[0., 1]s`\n",
    "</p></div>\n"
   ]
  },
  {
   "cell_type": "code",
   "execution_count": null,
   "id": "02f804cf-1db3-4bbf-bb27-f4af2af17648",
   "metadata": {},
   "outputs": [],
   "source": [
    "# write your answer"
   ]
  },
  {
   "cell_type": "markdown",
   "id": "0f53f1a7-7ff7-482d-a929-8d75daeb996f",
   "metadata": {},
   "source": [
    "### 2.2 Mean over time\n",
    "\n",
    "<div class=\"alert alert-warning\"><p>\n",
    "\n",
    "**[Instructions]**\n",
    "\n",
    "Select the hga for the channel `\"Q'2-Q'1\"` and take the mean across trials and across the temporal period between `[0., 1]s`\n",
    "</p></div>"
   ]
  },
  {
   "cell_type": "code",
   "execution_count": null,
   "id": "f48eb14d-1902-4a82-b7ad-78cdce2ef515",
   "metadata": {},
   "outputs": [],
   "source": [
    "# write your answer"
   ]
  },
  {
   "cell_type": "markdown",
   "id": "e89bc11f-6d7f-41e4-aa9a-f161842b14ee",
   "metadata": {},
   "source": [
    "### 2.3 Group by outcome\n",
    "\n",
    "<div class=\"alert alert-warning\"><p>\n",
    "\n",
    "**[Instructions]**\n",
    "\n",
    "Group the data by `outcome` and take the `mean` per outcome\n",
    "</p></div>"
   ]
  },
  {
   "cell_type": "code",
   "execution_count": null,
   "id": "c823df60-e869-4b54-9efa-98b2470e742f",
   "metadata": {},
   "outputs": [],
   "source": [
    "# write your answer"
   ]
  },
  {
   "cell_type": "markdown",
   "id": "1a4591e5-1811-4a3e-836a-6e5a832035e2",
   "metadata": {},
   "source": [
    "### 2.4 Set the name of the brain regions\n",
    "\n",
    "<div class=\"alert alert-warning\"><p>\n",
    "\n",
    "**[Instructions]**    \n",
    "- Get the list of brain region names associated to each contact\n",
    "- Rename the `channels` dimension of the hga `DataArray` with `parcels`. Put the result in a new `DataArray` variable named `hga_roi`\n",
    "- Replace the chanel names by the name of the brain regions for the dimension `parcels`\n",
    "</p></div>"
   ]
  },
  {
   "cell_type": "code",
   "execution_count": null,
   "id": "1f05ca0e-12d9-4963-b744-7cbe815c0b3a",
   "metadata": {},
   "outputs": [],
   "source": [
    "# write your answer"
   ]
  },
  {
   "cell_type": "markdown",
   "id": "4dd42baa-44f5-400b-a476-76df5659d91d",
   "metadata": {},
   "source": [
    "### 2.5 Group by parcel name\n",
    "\n",
    "<div class=\"alert alert-warning\"><p>\n",
    "\n",
    "**[Instructions]**    \n",
    "On the variable `hga_roi`, group the hga by the name of the brain regions and also take the mean per brain region\n",
    "</p></div>"
   ]
  },
  {
   "cell_type": "code",
   "execution_count": null,
   "id": "96821f74-90a4-40a6-b22f-293f44610103",
   "metadata": {},
   "outputs": [],
   "source": [
    "# write your answer"
   ]
  },
  {
   "cell_type": "markdown",
   "id": "9e0d3945-b0a2-4c47-a96d-b8077e8dd39a",
   "metadata": {
    "tags": []
   },
   "source": [
    "### 2.6 Group by outcome and parcels\n",
    "\n",
    "<div class=\"alert alert-warning\"><p>\n",
    "\n",
    "**[Instructions]**    \n",
    "Using the variable `hga_roi` :\n",
    "- First, group by outcome and take the mean per outcome. Place the result in a variable `hga_outc`\n",
    "- On `hga_outc`, group by brain regions and take the mean per brain region. Place the result in a variable called `hga_outcr`\n",
    "</p></div>"
   ]
  },
  {
   "cell_type": "code",
   "execution_count": null,
   "id": "cba395f8-e42a-4a97-8512-25d4f50024b7",
   "metadata": {},
   "outputs": [],
   "source": [
    "# write your answer"
   ]
  },
  {
   "cell_type": "markdown",
   "id": "0e2f2b5d-3e22-402e-b741-15fbd17af4d8",
   "metadata": {},
   "source": [
    "## **3. Plotting**\n",
    "### 3.1 Single time-series\n",
    "\n",
    "<div class=\"alert alert-warning\"><p>\n",
    "\n",
    "**[Instructions]**    \n",
    "On the variable `hga_outcr`, plot the mean activity across outcomes for the brain region _anterior insula_ (`aINS`)\n",
    "</p></div>"
   ]
  },
  {
   "cell_type": "code",
   "execution_count": null,
   "id": "12bf3238-b130-4f09-bea4-28d095707431",
   "metadata": {},
   "outputs": [],
   "source": [
    "# write your answer"
   ]
  },
  {
   "cell_type": "markdown",
   "id": "ec77fdf2-31a8-46c7-a5a8-330706880e29",
   "metadata": {
    "tags": []
   },
   "source": [
    "### 3.2 Plot all outcomes\n",
    "\n",
    "<div class=\"alert alert-warning\"><p>\n",
    "\n",
    "**[Instructions]**    \n",
    "On the variable `hga_outcr`, plot the hga of each outcome (i.e. 4 lines superimposed where each color describe the hga of a single outcome), only for the anterior insula.\n",
    "    \n",
    "_help : hga.plot(x=\"...\", hue=\"...\")_\n",
    "</p></div>"
   ]
  },
  {
   "cell_type": "code",
   "execution_count": null,
   "id": "2ca3a44e-0576-438a-b74e-239aee96d1fd",
   "metadata": {},
   "outputs": [],
   "source": [
    "# write your answer"
   ]
  },
  {
   "cell_type": "markdown",
   "id": "61fd5731-f05e-4e2c-9fce-35bcb6707f13",
   "metadata": {},
   "source": [
    "### 3.3 Plot all outcomes for all of the brain regions\n",
    "\n",
    "<div class=\"alert alert-warning\"><p>\n",
    "\n",
    "**[Instructions]**    \n",
    "Same as above, on the variable `hga_outcr`, plot the hga of each outcome (i.e. 4 lines superimposed where each color describe the hga of a single outcome), but this time specify that you also want that each column (or row, as you want !) is going to be dedicated to a single brain region\n",
    "    \n",
    "_help : hga.plot(x=\"...\", hue=\"...\", col=\"...\")_\n",
    "</p></div>"
   ]
  },
  {
   "cell_type": "code",
   "execution_count": null,
   "id": "e5d5cd20-3a86-4cf3-b8df-84574e9e7dfd",
   "metadata": {},
   "outputs": [],
   "source": [
    "# write your answer"
   ]
  },
  {
   "cell_type": "code",
   "execution_count": null,
   "id": "8e85494d-d05f-4091-aca2-45866b394011",
   "metadata": {},
   "outputs": [],
   "source": []
  },
  {
   "cell_type": "code",
   "execution_count": null,
   "id": "91509f2a-fcee-4781-a189-070d8e3ae54c",
   "metadata": {},
   "outputs": [],
   "source": []
  },
  {
   "cell_type": "code",
   "execution_count": null,
   "id": "90d6ca04-4726-4a9a-bf25-012772e1076e",
   "metadata": {},
   "outputs": [],
   "source": []
  }
 ],
 "metadata": {
  "kernelspec": {
   "display_name": "Python 3",
   "language": "python",
   "name": "python3"
  },
  "language_info": {
   "codemirror_mode": {
    "name": "ipython",
    "version": 3
   },
   "file_extension": ".py",
   "mimetype": "text/x-python",
   "name": "python",
   "nbconvert_exporter": "python",
   "pygments_lexer": "ipython3",
   "version": "3.7.8"
  }
 },
 "nbformat": 4,
 "nbformat_minor": 5
}
