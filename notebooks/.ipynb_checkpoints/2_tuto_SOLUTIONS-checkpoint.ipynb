{
 "cells": [
  {
   "cell_type": "code",
   "execution_count": null,
   "id": "57206e61-4793-48ed-b877-29cfa9c5e820",
   "metadata": {},
   "outputs": [],
   "source": [
    "import os\n",
    "\n",
    "import numpy as np\n",
    "import xarray as xr\n",
    "import pandas as pd\n",
    "\n",
    "from mne.utils import ProgressBar\n",
    "\n",
    "from frites.dataset import DatasetEphy\n",
    "from frites.workflow import WfMi\n",
    "\n",
    "import matplotlib.pyplot as plt"
   ]
  },
  {
   "cell_type": "markdown",
   "id": "972aadab-6a15-42bb-966e-12672772ef4f",
   "metadata": {},
   "source": [
    "---\n",
    "# **--- ROOT PATH ---**\n",
    "\n",
    "<div class=\"alert alert-info\"><p>\n",
    "\n",
    "Define the path to where the data are located !\n",
    "</p></div>"
   ]
  },
  {
   "cell_type": "code",
   "execution_count": null,
   "id": "59884eb1-31be-4f56-af23-37e6d399fa0d",
   "metadata": {},
   "outputs": [],
   "source": [
    "ROOT = '/run/media/etienne/DATA/Toolbox/BraiNets/CookingFrites/dataset/'"
   ]
  },
  {
   "cell_type": "markdown",
   "id": "92bfed58-ba5e-45c4-8eda-13cf0329f135",
   "metadata": {},
   "source": [
    "# **0 - Function**"
   ]
  },
  {
   "cell_type": "code",
   "execution_count": null,
   "id": "72b2fdff-d8f5-4b59-bd7d-9e7e5c25e2ed",
   "metadata": {},
   "outputs": [],
   "source": [
    "###############################################################################\n",
    "###############################################################################\n",
    "#                 Load the data of a single subject\n",
    "###############################################################################\n",
    "###############################################################################\n",
    "\n",
    "def load_ss(subject_nb):\n",
    "    \"\"\"Load the data of a single subject.\n",
    "    \n",
    "    Parameters\n",
    "    ----------\n",
    "    subject_nb : int\n",
    "        Subject number [0, 12]\n",
    "    \n",
    "    Returns\n",
    "    -------\n",
    "    hga : xarray.DataArray\n",
    "        Xarray containing the high-gamma activity\n",
    "    anat : pandas.DataFrame\n",
    "        Table containing the anatomical informations\n",
    "    beh : pandas.DataFrame\n",
    "        Table containing the behavioral informations\n",
    "    \"\"\"\n",
    "    # load the high-gamma activity\n",
    "    file_hga = os.path.join(ROOT, 'hga', f'hga_s-{subject_nb}.nc')\n",
    "    hga = xr.load_dataarray(file_hga)\n",
    "\n",
    "    # load the name of the brain regions\n",
    "    file_anat = os.path.join(ROOT, 'anat', f'anat_s-{subject_nb}.xlsx')\n",
    "    anat = pd.read_excel(file_anat)\n",
    "\n",
    "    # load the behavior\n",
    "    file_beh = os.path.join(ROOT, 'beh', f'beh_s-{subject_nb}.xlsx')\n",
    "    beh = pd.read_excel(file_beh)\n",
    "    \n",
    "    return hga, anat, beh\n",
    "\n",
    "\n",
    "###############################################################################\n",
    "###############################################################################\n",
    "#                 Load the data of multiple subjects\n",
    "###############################################################################\n",
    "###############################################################################\n",
    "\n",
    "def load_ms(s_range=[0, 11], model='outcome', condition='rew',\n",
    "            space='channels', mean_roi=True, prepend_suj_to_ch=True):\n",
    "    \"\"\"Load multiple subjects.\n",
    "    \n",
    "    Parameters\n",
    "    ----------\n",
    "    s_range : int or list\n",
    "        Subjects to load. Use either an integer (e.g. 7) to load a single\n",
    "        subject or a range of subjects (e.g. [5, 10])\n",
    "    model : {'outcome', 'pe', 'rt'}\n",
    "        Model to use. Use either :\n",
    "        \n",
    "            * 'outcome' : find differences in the neural activity between the\n",
    "              outcomes\n",
    "            * 'pe' : find regions with an activity correlating with the\n",
    "              prediction error\n",
    "            * 'rt' : find regions with an activity correlating with the\n",
    "              reaction time\n",
    "    condition : {'rew', 'pun', 'context', 'null'}\n",
    "        Condition to load. Use either :\n",
    "        \n",
    "            * 'rew' : for outcomes {+0€; +1€}\n",
    "            * 'pun' : for outcomes {-1€; -0€}\n",
    "            * 'context' : for outcomes {-1€; +1€}\n",
    "            * 'null' : for outcomes {-0€; +0€}\n",
    "    space : {'channels', 'roi'}\n",
    "        Specify if the spatial dimension should be described with channel names\n",
    "        or with brain region names\n",
    "    mean_roi : bool\n",
    "        Specify if you want to take the mean high-gamma activity inside a brain\n",
    "        region\n",
    "    prepend_suj_to_ch : bool\n",
    "        Add subject name to each channel name\n",
    "    \n",
    "    Returns\n",
    "    -------\n",
    "    hga : list\n",
    "        List of high-gamma activity across subjects\n",
    "    \"\"\"\n",
    "    # inputs checking\n",
    "    if isinstance(s_range, int):\n",
    "        s_range = [s_range, s_range]\n",
    "    s_range[1] += 1\n",
    "    s_range[0], s_range[1] = max(s_range[0], 0), min(s_range[1], 12)\n",
    "    mesg = f\"Subject %i | model={model} | condition={condition} | space={space}\"\n",
    "    pbar = ProgressBar(range(s_range[0], s_range[1]), mesg=mesg % 0)\n",
    "    model = model.lower()\n",
    "    assert space in ['channels', 'parcels', 'roi']\n",
    "    \n",
    "    # get the code of the condition\n",
    "    outc = {\n",
    "        'rew': (+1, +2),\n",
    "        'pun': (-2, -1),\n",
    "        'context': (-2, +2),\n",
    "        'null': (-1, +1)\n",
    "    }[condition]\n",
    "    \n",
    "    # get the behavioral column to use\n",
    "    col = {\n",
    "        'outcome': 'code',\n",
    "        'pe': 'PE',\n",
    "        'rt': 'RT'\n",
    "    }[model]\n",
    "    \n",
    "    # load the data\n",
    "    hga = []\n",
    "    for n_s in range(s_range[0], s_range[1]):\n",
    "        pbar._tqdm.desc = mesg % n_s\n",
    "        # load the data of a single subject\n",
    "        _hga, _anat, _beh = load_ss(n_s)\n",
    "        _outc = _hga['trials'].data\n",
    "        _ch = _hga['channels'].data\n",
    "        \n",
    "        # replace trial dimension with the model\n",
    "        _hga = _hga.rename(trials=model)\n",
    "        _hga[model] = list(_beh[col])\n",
    "        \n",
    "        # get which outcome to keep\n",
    "        keep_outc = np.logical_or(_outc == outc[0], _outc == outc[1])\n",
    "        _hga = _hga[keep_outc, ...]\n",
    "        \n",
    "        # replace with brain regions\n",
    "        if space in ['parcels', 'roi']:\n",
    "            _hga = _hga.rename(channels=space)\n",
    "            _hga[space] = list(_anat['roi'])\n",
    "            \n",
    "            # take the mean of the hga per parcel\n",
    "            if mean_roi:\n",
    "                _hga = _hga.groupby(space).mean(space)\n",
    "        elif prepend_suj_to_ch and (space == 'channels'):\n",
    "            # prepend subject number to channel name\n",
    "            _hga['channels'] = [f\"suj{n_s}/{c}\" for c in _ch]\n",
    "        \n",
    "        # ascontinuous array\n",
    "        _hga.data = np.ascontiguousarray(_hga.data)\n",
    "        \n",
    "        hga.append(_hga)\n",
    "        pbar.update_with_increment_value(1)\n",
    "\n",
    "    return hga"
   ]
  },
  {
   "cell_type": "markdown",
   "id": "55c80279-f6a2-4a99-b115-ad693b719dcd",
   "metadata": {},
   "source": [
    "---\n",
    "# **1. Data loading**\n",
    "## 1.1 Load the data of a single subject"
   ]
  },
  {
   "cell_type": "code",
   "execution_count": null,
   "id": "14c61055-1a72-4a20-a504-0f02196ace35",
   "metadata": {},
   "outputs": [],
   "source": [
    "hga = load_ms(s_range=6, model='outcome', condition='rew', space='channels')"
   ]
  },
  {
   "cell_type": "markdown",
   "id": "b05f0cfc-4041-4f43-baa6-7d5c5066be1f",
   "metadata": {},
   "source": [
    "## 1.2 Load the data of multiple subjects"
   ]
  },
  {
   "cell_type": "code",
   "execution_count": null,
   "id": "b60cfd71-62a0-401c-885e-c2d5bef4dbf5",
   "metadata": {},
   "outputs": [],
   "source": [
    "hga = load_ms(s_range=[6, 10], model='outcome', condition='rew',\n",
    "              space='channels')"
   ]
  },
  {
   "cell_type": "markdown",
   "id": "2e091e82-fa2b-4241-b98d-1b3d70c12e55",
   "metadata": {},
   "source": [
    "## 1.3 Switch condition and model"
   ]
  },
  {
   "cell_type": "code",
   "execution_count": null,
   "id": "05350f39-8cac-4652-869b-343388fd1306",
   "metadata": {},
   "outputs": [],
   "source": [
    "hga = load_ms(s_range=6, model='pe', condition='pun', space='roi')"
   ]
  },
  {
   "cell_type": "markdown",
   "id": "cf454e2b-9085-42b9-beeb-44e34d989401",
   "metadata": {},
   "source": [
    "---\n",
    "# **2. Measuring information**\n",
    "## 2.1 Model-free analysis for a single subject"
   ]
  },
  {
   "cell_type": "code",
   "execution_count": null,
   "id": "886e689d-67c7-4136-9845-acb86a89f91c",
   "metadata": {},
   "outputs": [],
   "source": [
    "# define the DatasetEphy\n",
    "hga = load_ms(s_range=6, model='outcome', condition='rew', space='channels')\n",
    "ds = DatasetEphy(hga, y='outcome', roi='channels', times='times')\n",
    "\n",
    "# measure information\n",
    "mi, _ = WfMi(mi_type='cd', inference='ffx').fit(ds, mcp=None)\n",
    "\n",
    "# plot the result\n",
    "plt.figure(figsize=(10, 8))\n",
    "mi.plot(x='times', hue='roi')\n",
    "plt.axvline(0., color='k');\n",
    "\n",
    "print(\"THE ANSWER IS CHANNEL O'7-O'6\")"
   ]
  },
  {
   "cell_type": "markdown",
   "id": "b589e8b7-acaa-410c-be26-dd854cef8c89",
   "metadata": {},
   "source": [
    "## 2.2 Model-free analysis across all of the subjects"
   ]
  },
  {
   "cell_type": "code",
   "execution_count": null,
   "id": "54c98ea8-1aa3-4be7-af1b-b1fb20977a31",
   "metadata": {},
   "outputs": [],
   "source": [
    "# define the DatasetEphy\n",
    "hga = load_ms(model='outcome', condition='context', space='roi')\n",
    "ds = DatasetEphy(hga, y='outcome', roi='roi', times='times')\n",
    "\n",
    "# measure information\n",
    "mi, _ = WfMi(mi_type='cd', inference='ffx').fit(ds, mcp=None)\n",
    "\n",
    "# plot the result\n",
    "plt.figure(figsize=(10, 8))\n",
    "mi.plot(x='times', hue='roi')\n",
    "plt.axvline(0., color='k');\n",
    "\n",
    "\"\"\"\n",
    "The Lateral Orbital Frontal Cortex (lOFC) seems to be the brain region sharing\n",
    "the most information with the contextual outcome. Said differently, we could\n",
    "say that the lOFC is particulary involved in differentiating whether the\n",
    "subject is going to experienced rewards or punishments\n",
    "\"\"\""
   ]
  },
  {
   "cell_type": "markdown",
   "id": "7b82576f-f838-4915-9d54-fe816cef8ea3",
   "metadata": {},
   "source": [
    "## 2.3 Model-based analysis for a single subject"
   ]
  },
  {
   "cell_type": "code",
   "execution_count": null,
   "id": "a8d05589-ce84-4d17-a8b6-5fdce5a52a8a",
   "metadata": {},
   "outputs": [],
   "source": [
    "# define the DatasetEphy\n",
    "hga = load_ms(s_range=6, model='rt', condition='rew', space='channels')\n",
    "ds = DatasetEphy(hga, y='rt', roi='channels', times='times')\n",
    "\n",
    "# measure information\n",
    "mi, _ = WfMi(mi_type='cc', inference='ffx').fit(ds, mcp=None)\n",
    "\n",
    "# plot the result\n",
    "plt.figure(figsize=(10, 8))\n",
    "mi.plot(x='times', hue='roi')\n",
    "plt.axvline(0., color='k');\n",
    "\n",
    "\"\"\"\n",
    "The answer is channel O'7-O'6 !\n",
    "\"\"\""
   ]
  },
  {
   "cell_type": "markdown",
   "id": "8295b5e7-f608-4b05-b34b-0c64bc905f2d",
   "metadata": {},
   "source": [
    "## 2.4 Model-based analysis for multiple subjects"
   ]
  },
  {
   "cell_type": "code",
   "execution_count": null,
   "id": "eef4f518-22a8-4da6-a07a-00a37d8211cd",
   "metadata": {},
   "outputs": [],
   "source": [
    "# define the DatasetEphy\n",
    "hga = load_ms(model='pe', condition='pun', space='roi')\n",
    "ds = DatasetEphy(hga, y='pe', roi='roi', times='times')\n",
    "\n",
    "# measure information\n",
    "mi, _ = WfMi(mi_type='cc', inference='ffx').fit(ds, mcp=None)\n",
    "\n",
    "# plot the result\n",
    "plt.figure(figsize=(10, 8))\n",
    "mi.plot(x='times', hue='roi')\n",
    "plt.axvline(0., color='k')\n",
    "\n",
    "\"\"\"\n",
    "The anterior insula (aINS) is the region that carry the most information about\n",
    "the prediction error during the punishment condition !\n",
    "\"\"\""
   ]
  },
  {
   "cell_type": "markdown",
   "id": "e7ef778f-3833-45bb-a690-0381f5cec7a4",
   "metadata": {},
   "source": [
    "## 2.5 Avoid taking the mean of neural activity"
   ]
  },
  {
   "cell_type": "code",
   "execution_count": null,
   "id": "382e2175-d492-4db8-8569-34c9e6556261",
   "metadata": {},
   "outputs": [],
   "source": [
    "# define the DatasetEphy\n",
    "hga = load_ms(model='rt', condition='rew', space='roi', mean_roi=False)\n",
    "ds = DatasetEphy(hga, y='rt', roi='roi', times='times')\n",
    "\n",
    "# measure information\n",
    "mi, _ = WfMi(mi_type='cc', inference='ffx').fit(ds, mcp=None)\n",
    "\n",
    "# plot the result\n",
    "plt.figure(figsize=(10, 8))\n",
    "mi.plot(x='times', hue='roi')\n",
    "plt.axvline(0., color='k');"
   ]
  },
  {
   "cell_type": "code",
   "execution_count": null,
   "id": "599e5af5-541f-4010-b290-407f1b224f3e",
   "metadata": {},
   "outputs": [],
   "source": []
  }
 ],
 "metadata": {
  "kernelspec": {
   "display_name": "Python 3",
   "language": "python",
   "name": "python3"
  },
  "language_info": {
   "codemirror_mode": {
    "name": "ipython",
    "version": 3
   },
   "file_extension": ".py",
   "mimetype": "text/x-python",
   "name": "python",
   "nbconvert_exporter": "python",
   "pygments_lexer": "ipython3",
   "version": "3.7.8"
  }
 },
 "nbformat": 4,
 "nbformat_minor": 5
}
